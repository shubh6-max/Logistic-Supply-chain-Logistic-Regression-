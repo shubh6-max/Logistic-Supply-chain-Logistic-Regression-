{
 "cells": [
  {
   "cell_type": "markdown",
   "id": "10203bfb",
   "metadata": {},
   "source": [
    "Logistics in supply chain plays a crucial role in the inventory management of the raw materials required for the operations, The firm will like to make use of data driven approach \n",
    "using ML models so that they can predict which order can get delayed in the future and hence take preventive measures."
   ]
  },
  {
   "cell_type": "code",
   "execution_count": 1,
   "id": "4a0360e5",
   "metadata": {},
   "outputs": [],
   "source": [
    "import pandas as pd\n",
    "import numpy as np\n",
    "import matplotlib.pyplot as plt\n",
    "from matplotlib.colors import ListedColormap\n",
    "\n",
    "import seaborn as sns\n",
    "\n",
    "import warnings\n",
    "warnings.filterwarnings('ignore')\n",
    "# display all columns of the dataframe\n",
    "pd.options.display.max_columns = 28\n",
    "\n",
    "# import various functions from statsmodels\n",
    "import statsmodels\n",
    "import statsmodels.api as sm\n",
    "\n",
    "# import various functions from sklearn\n",
    "from sklearn.metrics import classification_report\n",
    "from sklearn.metrics import confusion_matrix\n",
    "from sklearn.metrics import roc_curve\n",
    "from sklearn.metrics import roc_auc_score\n",
    "\n",
    "# import various functions from sklearn \n",
    "from sklearn import metrics\n",
    "from sklearn.linear_model import LogisticRegression\n",
    "from sklearn.metrics import cohen_kappa_score\n",
    "from sklearn.metrics import confusion_matrix\n",
    "from sklearn.metrics import accuracy_score\n",
    "\n",
    "# import function to perform feature selection\n",
    "from sklearn.feature_selection import RFE"
   ]
  },
  {
   "cell_type": "code",
   "execution_count": 2,
   "id": "fddce02a",
   "metadata": {},
   "outputs": [],
   "source": [
    "df=pd.read_csv(r'C:\\Users\\Windows 10\\Downloads\\Train_Set.csv')"
   ]
  },
  {
   "cell_type": "code",
   "execution_count": 3,
   "id": "b28a583e",
   "metadata": {},
   "outputs": [
    {
     "data": {
      "text/html": [
       "<div>\n",
       "<style scoped>\n",
       "    .dataframe tbody tr th:only-of-type {\n",
       "        vertical-align: middle;\n",
       "    }\n",
       "\n",
       "    .dataframe tbody tr th {\n",
       "        vertical-align: top;\n",
       "    }\n",
       "\n",
       "    .dataframe thead th {\n",
       "        text-align: right;\n",
       "    }\n",
       "</style>\n",
       "<table border=\"1\" class=\"dataframe\">\n",
       "  <thead>\n",
       "    <tr style=\"text-align: right;\">\n",
       "      <th></th>\n",
       "      <th>OrderId</th>\n",
       "      <th>Customer_Id</th>\n",
       "      <th>Customer_Category</th>\n",
       "      <th>Cust_State</th>\n",
       "      <th>Zipcode</th>\n",
       "      <th>Sales</th>\n",
       "      <th>Order_zone</th>\n",
       "      <th>Price</th>\n",
       "      <th>CategoryName</th>\n",
       "      <th>Transcation</th>\n",
       "      <th>Dept_Id</th>\n",
       "      <th>Dept_Name</th>\n",
       "      <th>Profit_Ratio</th>\n",
       "      <th>Discount</th>\n",
       "      <th>Quantity</th>\n",
       "      <th>Order_Profit</th>\n",
       "      <th>Product_type</th>\n",
       "      <th>Prod_Category_Id</th>\n",
       "      <th>ProductLength</th>\n",
       "      <th>ProductWeight</th>\n",
       "      <th>Dispatched</th>\n",
       "      <th>Shipping_Class</th>\n",
       "      <th>Scheduled_Shipping</th>\n",
       "      <th>Warehouse_Region</th>\n",
       "      <th>Delivery_Review</th>\n",
       "      <th>Session_Ordered</th>\n",
       "      <th>WeekdayOrder</th>\n",
       "      <th>Delivery_Status</th>\n",
       "    </tr>\n",
       "  </thead>\n",
       "  <tbody>\n",
       "    <tr>\n",
       "      <th>0</th>\n",
       "      <td>2477882</td>\n",
       "      <td>12386</td>\n",
       "      <td>Consumer</td>\n",
       "      <td>AR</td>\n",
       "      <td>19120</td>\n",
       "      <td>150.0</td>\n",
       "      <td>Central</td>\n",
       "      <td>4383.39</td>\n",
       "      <td>Cat-2</td>\n",
       "      <td>UPI</td>\n",
       "      <td>4</td>\n",
       "      <td>Apparel</td>\n",
       "      <td>0.08</td>\n",
       "      <td>0.10</td>\n",
       "      <td>3</td>\n",
       "      <td>352.78</td>\n",
       "      <td>Fragile</td>\n",
       "      <td>17</td>\n",
       "      <td>191.0</td>\n",
       "      <td>1592.0</td>\n",
       "      <td>0</td>\n",
       "      <td>Standard</td>\n",
       "      <td>4</td>\n",
       "      <td>NORTH</td>\n",
       "      <td>5.0</td>\n",
       "      <td>2.0</td>\n",
       "      <td>0</td>\n",
       "      <td>0</td>\n",
       "    </tr>\n",
       "    <tr>\n",
       "      <th>1</th>\n",
       "      <td>2477895</td>\n",
       "      <td>2630</td>\n",
       "      <td>Consumer</td>\n",
       "      <td>BR</td>\n",
       "      <td>2907</td>\n",
       "      <td>165.0</td>\n",
       "      <td>East</td>\n",
       "      <td>4295.72</td>\n",
       "      <td>Cat-2</td>\n",
       "      <td>UPI</td>\n",
       "      <td>4</td>\n",
       "      <td>Apparel</td>\n",
       "      <td>0.47</td>\n",
       "      <td>0.16</td>\n",
       "      <td>3</td>\n",
       "      <td>2018.10</td>\n",
       "      <td>Fragile</td>\n",
       "      <td>17</td>\n",
       "      <td>79.0</td>\n",
       "      <td>1420.0</td>\n",
       "      <td>0</td>\n",
       "      <td>Standard</td>\n",
       "      <td>6</td>\n",
       "      <td>NORTH</td>\n",
       "      <td>2.0</td>\n",
       "      <td>2.0</td>\n",
       "      <td>1</td>\n",
       "      <td>0</td>\n",
       "    </tr>\n",
       "    <tr>\n",
       "      <th>2</th>\n",
       "      <td>2473260</td>\n",
       "      <td>1752</td>\n",
       "      <td>Corporate</td>\n",
       "      <td>RJ</td>\n",
       "      <td>90214</td>\n",
       "      <td>171.0</td>\n",
       "      <td>South</td>\n",
       "      <td>3616.65</td>\n",
       "      <td>Cat-50</td>\n",
       "      <td>Cash</td>\n",
       "      <td>7</td>\n",
       "      <td>Fan Shop</td>\n",
       "      <td>0.26</td>\n",
       "      <td>0.07</td>\n",
       "      <td>4</td>\n",
       "      <td>939.63</td>\n",
       "      <td>Not Fragile</td>\n",
       "      <td>46</td>\n",
       "      <td>67.0</td>\n",
       "      <td>1231.0</td>\n",
       "      <td>0</td>\n",
       "      <td>Standard</td>\n",
       "      <td>6</td>\n",
       "      <td>SOUTH</td>\n",
       "      <td>4.0</td>\n",
       "      <td>2.0</td>\n",
       "      <td>0</td>\n",
       "      <td>1</td>\n",
       "    </tr>\n",
       "    <tr>\n",
       "      <th>3</th>\n",
       "      <td>2466916</td>\n",
       "      <td>9268</td>\n",
       "      <td>Consumer</td>\n",
       "      <td>UP</td>\n",
       "      <td>745</td>\n",
       "      <td>132.0</td>\n",
       "      <td>East</td>\n",
       "      <td>9175.86</td>\n",
       "      <td>Cat-12</td>\n",
       "      <td>Credit</td>\n",
       "      <td>4</td>\n",
       "      <td>Apparel</td>\n",
       "      <td>0.48</td>\n",
       "      <td>0.18</td>\n",
       "      <td>1</td>\n",
       "      <td>4401.74</td>\n",
       "      <td>Not Fragile</td>\n",
       "      <td>18</td>\n",
       "      <td>45.0</td>\n",
       "      <td>NaN</td>\n",
       "      <td>1</td>\n",
       "      <td>2A</td>\n",
       "      <td>4</td>\n",
       "      <td>NORTH</td>\n",
       "      <td>4.0</td>\n",
       "      <td>3.0</td>\n",
       "      <td>1</td>\n",
       "      <td>1</td>\n",
       "    </tr>\n",
       "    <tr>\n",
       "      <th>4</th>\n",
       "      <td>2351480</td>\n",
       "      <td>2888</td>\n",
       "      <td>Corporate</td>\n",
       "      <td>UP</td>\n",
       "      <td>92427</td>\n",
       "      <td>NaN</td>\n",
       "      <td>North</td>\n",
       "      <td>2779.29</td>\n",
       "      <td>Cat-3</td>\n",
       "      <td>UPI</td>\n",
       "      <td>5</td>\n",
       "      <td>Golf</td>\n",
       "      <td>0.13</td>\n",
       "      <td>0.16</td>\n",
       "      <td>4</td>\n",
       "      <td>361.70</td>\n",
       "      <td>Not Fragile</td>\n",
       "      <td>29</td>\n",
       "      <td>43.0</td>\n",
       "      <td>1018.0</td>\n",
       "      <td>1</td>\n",
       "      <td>Standard</td>\n",
       "      <td>5</td>\n",
       "      <td>CENTRAL</td>\n",
       "      <td>2.0</td>\n",
       "      <td>1.0</td>\n",
       "      <td>0</td>\n",
       "      <td>1</td>\n",
       "    </tr>\n",
       "  </tbody>\n",
       "</table>\n",
       "</div>"
      ],
      "text/plain": [
       "   OrderId  Customer_Id Customer_Category Cust_State  Zipcode  Sales  \\\n",
       "0  2477882        12386          Consumer         AR    19120  150.0   \n",
       "1  2477895         2630          Consumer         BR     2907  165.0   \n",
       "2  2473260         1752         Corporate         RJ    90214  171.0   \n",
       "3  2466916         9268          Consumer         UP      745  132.0   \n",
       "4  2351480         2888         Corporate         UP    92427    NaN   \n",
       "\n",
       "  Order_zone    Price CategoryName Transcation  Dept_Id Dept_Name  \\\n",
       "0    Central  4383.39        Cat-2         UPI        4   Apparel   \n",
       "1       East  4295.72        Cat-2         UPI        4   Apparel   \n",
       "2      South  3616.65       Cat-50        Cash        7  Fan Shop   \n",
       "3       East  9175.86       Cat-12      Credit        4   Apparel   \n",
       "4      North  2779.29        Cat-3         UPI        5      Golf   \n",
       "\n",
       "   Profit_Ratio  Discount  Quantity  Order_Profit  Product_type  \\\n",
       "0          0.08      0.10         3         352.78      Fragile   \n",
       "1          0.47      0.16         3        2018.10      Fragile   \n",
       "2          0.26      0.07         4         939.63  Not Fragile   \n",
       "3          0.48      0.18         1        4401.74  Not Fragile   \n",
       "4          0.13      0.16         4         361.70  Not Fragile   \n",
       "\n",
       "   Prod_Category_Id  ProductLength  ProductWeight  Dispatched Shipping_Class  \\\n",
       "0                17          191.0         1592.0           0       Standard   \n",
       "1                17           79.0         1420.0           0       Standard   \n",
       "2                46           67.0         1231.0           0       Standard   \n",
       "3                18           45.0            NaN           1             2A   \n",
       "4                29           43.0         1018.0           1       Standard   \n",
       "\n",
       "   Scheduled_Shipping Warehouse_Region  Delivery_Review  Session_Ordered  \\\n",
       "0                   4            NORTH              5.0              2.0   \n",
       "1                   6            NORTH              2.0              2.0   \n",
       "2                   6            SOUTH              4.0              2.0   \n",
       "3                   4            NORTH              4.0              3.0   \n",
       "4                   5          CENTRAL              2.0              1.0   \n",
       "\n",
       "   WeekdayOrder  Delivery_Status  \n",
       "0             0                0  \n",
       "1             1                0  \n",
       "2             0                1  \n",
       "3             1                1  \n",
       "4             0                1  "
      ]
     },
     "execution_count": 3,
     "metadata": {},
     "output_type": "execute_result"
    }
   ],
   "source": [
    "df.head()"
   ]
  },
  {
   "cell_type": "code",
   "execution_count": 4,
   "id": "07d07029",
   "metadata": {},
   "outputs": [
    {
     "data": {
      "text/plain": [
       "(126363, 28)"
      ]
     },
     "execution_count": 4,
     "metadata": {},
     "output_type": "execute_result"
    }
   ],
   "source": [
    "df.shape"
   ]
  },
  {
   "cell_type": "code",
   "execution_count": 5,
   "id": "36763d8f",
   "metadata": {},
   "outputs": [
    {
     "data": {
      "text/plain": [
       "OrderId                  0\n",
       "Customer_Id              0\n",
       "Customer_Category        0\n",
       "Cust_State               0\n",
       "Zipcode                  0\n",
       "Sales                 3614\n",
       "Order_zone               0\n",
       "Price                    0\n",
       "CategoryName             0\n",
       "Transcation              0\n",
       "Dept_Id                  0\n",
       "Dept_Name                0\n",
       "Profit_Ratio             0\n",
       "Discount              5050\n",
       "Quantity                 0\n",
       "Order_Profit             0\n",
       "Product_type             0\n",
       "Prod_Category_Id         0\n",
       "ProductLength         2946\n",
       "ProductWeight          695\n",
       "Dispatched               0\n",
       "Shipping_Class           0\n",
       "Scheduled_Shipping       0\n",
       "Warehouse_Region         0\n",
       "Delivery_Review       9065\n",
       "Session_Ordered       4792\n",
       "WeekdayOrder             0\n",
       "Delivery_Status          0\n",
       "dtype: int64"
      ]
     },
     "execution_count": 5,
     "metadata": {},
     "output_type": "execute_result"
    }
   ],
   "source": [
    "df.isnull().sum()"
   ]
  },
  {
   "cell_type": "code",
   "execution_count": 6,
   "id": "ab846c91",
   "metadata": {},
   "outputs": [
    {
     "data": {
      "text/plain": [
       "OrderId                 int64\n",
       "Customer_Id             int64\n",
       "Customer_Category      object\n",
       "Cust_State             object\n",
       "Zipcode                 int64\n",
       "Sales                 float64\n",
       "Order_zone             object\n",
       "Price                 float64\n",
       "CategoryName           object\n",
       "Transcation            object\n",
       "Dept_Id                 int64\n",
       "Dept_Name              object\n",
       "Profit_Ratio          float64\n",
       "Discount              float64\n",
       "Quantity                int64\n",
       "Order_Profit          float64\n",
       "Product_type           object\n",
       "Prod_Category_Id        int64\n",
       "ProductLength         float64\n",
       "ProductWeight         float64\n",
       "Dispatched              int64\n",
       "Shipping_Class         object\n",
       "Scheduled_Shipping      int64\n",
       "Warehouse_Region       object\n",
       "Delivery_Review       float64\n",
       "Session_Ordered       float64\n",
       "WeekdayOrder            int64\n",
       "Delivery_Status         int64\n",
       "dtype: object"
      ]
     },
     "execution_count": 6,
     "metadata": {},
     "output_type": "execute_result"
    }
   ],
   "source": [
    "df.dtypes"
   ]
  },
  {
   "cell_type": "code",
   "execution_count": 7,
   "id": "46d137a0",
   "metadata": {},
   "outputs": [],
   "source": [
    "df['Sales']=df['Sales'].fillna(df['Sales'].median())\n",
    "df['Discount']=df['Discount'].fillna(df['Discount'].median())\n",
    "df['ProductLength']=df['ProductLength'].fillna(df['ProductLength'].median())\n",
    "df['ProductWeight']=df['ProductWeight'].fillna(df['ProductWeight'].median())\n",
    "df['Delivery_Review']=df['Delivery_Review'].fillna(df['Delivery_Review'].median())\n",
    "df['Session_Ordered']=df['Session_Ordered'].fillna(df['Session_Ordered'].median())"
   ]
  },
  {
   "cell_type": "code",
   "execution_count": 8,
   "id": "7e2f56f6",
   "metadata": {},
   "outputs": [
    {
     "data": {
      "image/png": "[encoded data removed]",
      "text/plain": [
       "<Figure size 2000x1000 with 4 Axes>"
      ]
     },
     "metadata": {},
     "output_type": "display_data"
    }
   ],
   "source": [
    "num=df.select_dtypes(np.number)\n",
    "\n",
    "fig,ax=plt.subplots(nrows=2,ncols=2,figsize=[20,10])\n",
    "\n",
    "for variable,subplot in zip(num.iloc[:,[3,4,5,6]].columns,ax.flatten()):\n",
    "    sns.boxplot(num[variable],ax=subplot)\n",
    "    \n",
    "plt.show()\n"
   ]
  },
  {
   "cell_type": "code",
   "execution_count": 9,
   "id": "9aa30051",
   "metadata": {},
   "outputs": [
    {
     "data": {
      "image/png": "[encoded data removed]",
      "text/plain": [
       "<Figure size 2000x1000 with 3 Axes>"
      ]
     },
     "metadata": {},
     "output_type": "display_data"
    }
   ],
   "source": [
    "fig,ax=plt.subplots(nrows=1,ncols=3,figsize=[20,10])\n",
    "\n",
    "for variable,subplot in zip(num.iloc[:,[12,14,15]].columns,ax.flatten()):\n",
    "    sns.boxplot(num[variable],ax=subplot)\n",
    "    \n",
    "plt.show()"
   ]
  },
  {
   "cell_type": "code",
   "execution_count": 10,
   "id": "95b81c43",
   "metadata": {},
   "outputs": [
    {
     "data": {
      "text/plain": [
       "(88778, 28)"
      ]
     },
     "execution_count": 10,
     "metadata": {},
     "output_type": "execute_result"
    }
   ],
   "source": [
    "# calculate the first quartile\n",
    "Q1 = df.quantile(0.25)\n",
    "\n",
    "# calculate the third quartile\n",
    "Q3 = df.quantile(0.75)\n",
    "\n",
    "# The Interquartile Range (IQR) is defined as the difference between the third and first quartile\n",
    "# calculate IQR for each numeric variable\n",
    "IQR = Q3 - Q1\n",
    "\n",
    "# retrieve the dataframe without the outliers\n",
    "# '~' returns the values that do not satisfy the given conditions \n",
    "# i.e. it returns values between the range [Q1-1.5*IQR, Q3+1.5*IQR]\n",
    "# '|' is used as 'OR' operator on multiple conditions   \n",
    "# 'any(axis=1)' checks the entire row for atleast one 'True' entry (the rows represent outliers in the data)\n",
    "df_iqr = df[~((df < (Q1 - 1.5 * IQR)) | (df > (Q3 + 1.5 * IQR))).any(axis=1)]\n",
    "\n",
    "# check the shape of the data\n",
    "df_iqr.shape"
   ]
  },
  {
   "cell_type": "code",
   "execution_count": 11,
   "id": "429c2f29",
   "metadata": {},
   "outputs": [],
   "source": [
    "df_iqr['Dispatched']=df_iqr['Dispatched'].astype('O')\n",
    "df_iqr['WeekdayOrder']=df_iqr['WeekdayOrder'].astype('O')"
   ]
  },
  {
   "cell_type": "code",
   "execution_count": 12,
   "id": "7d910902",
   "metadata": {},
   "outputs": [],
   "source": [
    "df_target=df_iqr['Delivery_Status'].copy()\n",
    "\n",
    "x=df_iqr.drop(columns=['Delivery_Status'],axis=1)\n",
    "\n",
    "x_num=x.select_dtypes(np.number)\n",
    "x_cat=x.select_dtypes('O')"
   ]
  },
  {
   "cell_type": "code",
   "execution_count": 13,
   "id": "fe597968",
   "metadata": {},
   "outputs": [
    {
     "data": {
      "text/html": [
       "<div>\n",
       "<style scoped>\n",
       "    .dataframe tbody tr th:only-of-type {\n",
       "        vertical-align: middle;\n",
       "    }\n",
       "\n",
       "    .dataframe tbody tr th {\n",
       "        vertical-align: top;\n",
       "    }\n",
       "\n",
       "    .dataframe thead th {\n",
       "        text-align: right;\n",
       "    }\n",
       "</style>\n",
       "<table border=\"1\" class=\"dataframe\">\n",
       "  <thead>\n",
       "    <tr style=\"text-align: right;\">\n",
       "      <th></th>\n",
       "      <th>Sales</th>\n",
       "      <th>Price</th>\n",
       "      <th>Profit_Ratio</th>\n",
       "      <th>Discount</th>\n",
       "      <th>Quantity</th>\n",
       "      <th>Order_Profit</th>\n",
       "      <th>Prod_Category_Id</th>\n",
       "      <th>ProductLength</th>\n",
       "      <th>ProductWeight</th>\n",
       "      <th>Scheduled_Shipping</th>\n",
       "      <th>Delivery_Review</th>\n",
       "      <th>Session_Ordered</th>\n",
       "    </tr>\n",
       "  </thead>\n",
       "  <tbody>\n",
       "    <tr>\n",
       "      <th>0</th>\n",
       "      <td>150.0</td>\n",
       "      <td>4383.39</td>\n",
       "      <td>0.08</td>\n",
       "      <td>0.10</td>\n",
       "      <td>3</td>\n",
       "      <td>352.78</td>\n",
       "      <td>17</td>\n",
       "      <td>191.0</td>\n",
       "      <td>1592.0</td>\n",
       "      <td>4</td>\n",
       "      <td>5.0</td>\n",
       "      <td>2.0</td>\n",
       "    </tr>\n",
       "    <tr>\n",
       "      <th>1</th>\n",
       "      <td>165.0</td>\n",
       "      <td>4295.72</td>\n",
       "      <td>0.47</td>\n",
       "      <td>0.16</td>\n",
       "      <td>3</td>\n",
       "      <td>2018.10</td>\n",
       "      <td>17</td>\n",
       "      <td>79.0</td>\n",
       "      <td>1420.0</td>\n",
       "      <td>6</td>\n",
       "      <td>2.0</td>\n",
       "      <td>2.0</td>\n",
       "    </tr>\n",
       "    <tr>\n",
       "      <th>2</th>\n",
       "      <td>171.0</td>\n",
       "      <td>3616.65</td>\n",
       "      <td>0.26</td>\n",
       "      <td>0.07</td>\n",
       "      <td>4</td>\n",
       "      <td>939.63</td>\n",
       "      <td>46</td>\n",
       "      <td>67.0</td>\n",
       "      <td>1231.0</td>\n",
       "      <td>6</td>\n",
       "      <td>4.0</td>\n",
       "      <td>2.0</td>\n",
       "    </tr>\n",
       "    <tr>\n",
       "      <th>3</th>\n",
       "      <td>132.0</td>\n",
       "      <td>9175.86</td>\n",
       "      <td>0.48</td>\n",
       "      <td>0.18</td>\n",
       "      <td>1</td>\n",
       "      <td>4401.74</td>\n",
       "      <td>18</td>\n",
       "      <td>45.0</td>\n",
       "      <td>1640.0</td>\n",
       "      <td>4</td>\n",
       "      <td>4.0</td>\n",
       "      <td>3.0</td>\n",
       "    </tr>\n",
       "    <tr>\n",
       "      <th>4</th>\n",
       "      <td>173.0</td>\n",
       "      <td>2779.29</td>\n",
       "      <td>0.13</td>\n",
       "      <td>0.16</td>\n",
       "      <td>4</td>\n",
       "      <td>361.70</td>\n",
       "      <td>29</td>\n",
       "      <td>43.0</td>\n",
       "      <td>1018.0</td>\n",
       "      <td>5</td>\n",
       "      <td>2.0</td>\n",
       "      <td>1.0</td>\n",
       "    </tr>\n",
       "  </tbody>\n",
       "</table>\n",
       "</div>"
      ],
      "text/plain": [
       "   Sales    Price  Profit_Ratio  Discount  Quantity  Order_Profit   \\\n",
       "0  150.0  4383.39          0.08      0.10         3         352.78   \n",
       "1  165.0  4295.72          0.47      0.16         3        2018.10   \n",
       "2  171.0  3616.65          0.26      0.07         4         939.63   \n",
       "3  132.0  9175.86          0.48      0.18         1        4401.74   \n",
       "4  173.0  2779.29          0.13      0.16         4         361.70   \n",
       "\n",
       "   Prod_Category_Id  ProductLength  ProductWeight  Scheduled_Shipping  \\\n",
       "0                17          191.0         1592.0                   4   \n",
       "1                17           79.0         1420.0                   6   \n",
       "2                46           67.0         1231.0                   6   \n",
       "3                18           45.0         1640.0                   4   \n",
       "4                29           43.0         1018.0                   5   \n",
       "\n",
       "   Delivery_Review  Session_Ordered  \n",
       "0              5.0              2.0  \n",
       "1              2.0              2.0  \n",
       "2              4.0              2.0  \n",
       "3              4.0              3.0  \n",
       "4              2.0              1.0  "
      ]
     },
     "execution_count": 13,
     "metadata": {},
     "output_type": "execute_result"
    }
   ],
   "source": [
    "x_num=x_num.drop(columns=['OrderId','Customer_Id','Zipcode','Dept_Id'])\n",
    "x_num.head()"
   ]
  },
  {
   "cell_type": "code",
   "execution_count": 14,
   "id": "19738b21",
   "metadata": {},
   "outputs": [
    {
     "data": {
      "text/html": [
       "<div>\n",
       "<style scoped>\n",
       "    .dataframe tbody tr th:only-of-type {\n",
       "        vertical-align: middle;\n",
       "    }\n",
       "\n",
       "    .dataframe tbody tr th {\n",
       "        vertical-align: top;\n",
       "    }\n",
       "\n",
       "    .dataframe thead th {\n",
       "        text-align: right;\n",
       "    }\n",
       "</style>\n",
       "<table border=\"1\" class=\"dataframe\">\n",
       "  <thead>\n",
       "    <tr style=\"text-align: right;\">\n",
       "      <th></th>\n",
       "      <th>Sales</th>\n",
       "      <th>Price</th>\n",
       "      <th>Profit_Ratio</th>\n",
       "      <th>Discount</th>\n",
       "      <th>Quantity</th>\n",
       "      <th>Order_Profit</th>\n",
       "      <th>Prod_Category_Id</th>\n",
       "      <th>ProductLength</th>\n",
       "      <th>ProductWeight</th>\n",
       "      <th>Scheduled_Shipping</th>\n",
       "      <th>Delivery_Review</th>\n",
       "      <th>Session_Ordered</th>\n",
       "    </tr>\n",
       "  </thead>\n",
       "  <tbody>\n",
       "    <tr>\n",
       "      <th>0</th>\n",
       "      <td>-0.244791</td>\n",
       "      <td>-0.508805</td>\n",
       "      <td>-0.843862</td>\n",
       "      <td>-0.076716</td>\n",
       "      <td>0.493822</td>\n",
       "      <td>-0.713584</td>\n",
       "      <td>-0.855731</td>\n",
       "      <td>2.043590</td>\n",
       "      <td>-0.009102</td>\n",
       "      <td>0.177914</td>\n",
       "      <td>1.893526</td>\n",
       "      <td>-0.001437</td>\n",
       "    </tr>\n",
       "    <tr>\n",
       "      <th>1</th>\n",
       "      <td>-0.075472</td>\n",
       "      <td>-0.522323</td>\n",
       "      <td>1.200825</td>\n",
       "      <td>0.770368</td>\n",
       "      <td>0.493822</td>\n",
       "      <td>0.183421</td>\n",
       "      <td>-0.855731</td>\n",
       "      <td>-0.186692</td>\n",
       "      <td>-0.173822</td>\n",
       "      <td>1.516062</td>\n",
       "      <td>-1.595304</td>\n",
       "      <td>-0.001437</td>\n",
       "    </tr>\n",
       "    <tr>\n",
       "      <th>2</th>\n",
       "      <td>-0.007744</td>\n",
       "      <td>-0.627030</td>\n",
       "      <td>0.099840</td>\n",
       "      <td>-0.500258</td>\n",
       "      <td>1.171713</td>\n",
       "      <td>-0.397484</td>\n",
       "      <td>1.115905</td>\n",
       "      <td>-0.425651</td>\n",
       "      <td>-0.354822</td>\n",
       "      <td>1.516062</td>\n",
       "      <td>0.730583</td>\n",
       "      <td>-0.001437</td>\n",
       "    </tr>\n",
       "    <tr>\n",
       "      <th>3</th>\n",
       "      <td>-0.447975</td>\n",
       "      <td>0.230153</td>\n",
       "      <td>1.253253</td>\n",
       "      <td>1.052729</td>\n",
       "      <td>-0.861960</td>\n",
       "      <td>1.467341</td>\n",
       "      <td>-0.787743</td>\n",
       "      <td>-0.863742</td>\n",
       "      <td>0.036866</td>\n",
       "      <td>0.177914</td>\n",
       "      <td>0.730583</td>\n",
       "      <td>1.249356</td>\n",
       "    </tr>\n",
       "    <tr>\n",
       "      <th>4</th>\n",
       "      <td>0.014831</td>\n",
       "      <td>-0.756144</td>\n",
       "      <td>-0.581723</td>\n",
       "      <td>0.770368</td>\n",
       "      <td>1.171713</td>\n",
       "      <td>-0.708779</td>\n",
       "      <td>-0.039881</td>\n",
       "      <td>-0.903569</td>\n",
       "      <td>-0.558807</td>\n",
       "      <td>0.846988</td>\n",
       "      <td>-1.595304</td>\n",
       "      <td>-1.252230</td>\n",
       "    </tr>\n",
       "  </tbody>\n",
       "</table>\n",
       "</div>"
      ],
      "text/plain": [
       "      Sales     Price  Profit_Ratio  Discount  Quantity  Order_Profit   \\\n",
       "0 -0.244791 -0.508805     -0.843862 -0.076716  0.493822      -0.713584   \n",
       "1 -0.075472 -0.522323      1.200825  0.770368  0.493822       0.183421   \n",
       "2 -0.007744 -0.627030      0.099840 -0.500258  1.171713      -0.397484   \n",
       "3 -0.447975  0.230153      1.253253  1.052729 -0.861960       1.467341   \n",
       "4  0.014831 -0.756144     -0.581723  0.770368  1.171713      -0.708779   \n",
       "\n",
       "   Prod_Category_Id  ProductLength  ProductWeight  Scheduled_Shipping  \\\n",
       "0         -0.855731       2.043590      -0.009102            0.177914   \n",
       "1         -0.855731      -0.186692      -0.173822            1.516062   \n",
       "2          1.115905      -0.425651      -0.354822            1.516062   \n",
       "3         -0.787743      -0.863742       0.036866            0.177914   \n",
       "4         -0.039881      -0.903569      -0.558807            0.846988   \n",
       "\n",
       "   Delivery_Review  Session_Ordered  \n",
       "0         1.893526        -0.001437  \n",
       "1        -1.595304        -0.001437  \n",
       "2         0.730583        -0.001437  \n",
       "3         0.730583         1.249356  \n",
       "4        -1.595304        -1.252230  "
      ]
     },
     "execution_count": 14,
     "metadata": {},
     "output_type": "execute_result"
    }
   ],
   "source": [
    "from sklearn.preprocessing import StandardScaler\n",
    "\n",
    "scale=StandardScaler()\n",
    "\n",
    "x_num_scale=pd.DataFrame(scale.fit_transform(x_num),columns=x_num.columns)\n",
    "\n",
    "x_num_scale.head()"
   ]
  },
  {
   "cell_type": "code",
   "execution_count": 15,
   "id": "aa1bb78c",
   "metadata": {},
   "outputs": [
    {
     "data": {
      "text/html": [
       "<div>\n",
       "<style scoped>\n",
       "    .dataframe tbody tr th:only-of-type {\n",
       "        vertical-align: middle;\n",
       "    }\n",
       "\n",
       "    .dataframe tbody tr th {\n",
       "        vertical-align: top;\n",
       "    }\n",
       "\n",
       "    .dataframe thead th {\n",
       "        text-align: right;\n",
       "    }\n",
       "</style>\n",
       "<table border=\"1\" class=\"dataframe\">\n",
       "  <thead>\n",
       "    <tr style=\"text-align: right;\">\n",
       "      <th></th>\n",
       "      <th>Customer_Category</th>\n",
       "      <th>Cust_State</th>\n",
       "      <th>Order_zone</th>\n",
       "      <th>CategoryName</th>\n",
       "      <th>Transcation</th>\n",
       "      <th>Dept_Name</th>\n",
       "      <th>Product_type</th>\n",
       "      <th>Dispatched</th>\n",
       "      <th>Shipping_Class</th>\n",
       "      <th>Warehouse_Region</th>\n",
       "      <th>WeekdayOrder</th>\n",
       "    </tr>\n",
       "  </thead>\n",
       "  <tbody>\n",
       "    <tr>\n",
       "      <th>0</th>\n",
       "      <td>0</td>\n",
       "      <td>1</td>\n",
       "      <td>0</td>\n",
       "      <td>9</td>\n",
       "      <td>3</td>\n",
       "      <td>0</td>\n",
       "      <td>0</td>\n",
       "      <td>0</td>\n",
       "      <td>3</td>\n",
       "      <td>2</td>\n",
       "      <td>0</td>\n",
       "    </tr>\n",
       "    <tr>\n",
       "      <th>1</th>\n",
       "      <td>0</td>\n",
       "      <td>2</td>\n",
       "      <td>1</td>\n",
       "      <td>9</td>\n",
       "      <td>3</td>\n",
       "      <td>0</td>\n",
       "      <td>0</td>\n",
       "      <td>0</td>\n",
       "      <td>3</td>\n",
       "      <td>2</td>\n",
       "      <td>1</td>\n",
       "    </tr>\n",
       "    <tr>\n",
       "      <th>2</th>\n",
       "      <td>1</td>\n",
       "      <td>13</td>\n",
       "      <td>3</td>\n",
       "      <td>40</td>\n",
       "      <td>0</td>\n",
       "      <td>3</td>\n",
       "      <td>1</td>\n",
       "      <td>0</td>\n",
       "      <td>3</td>\n",
       "      <td>3</td>\n",
       "      <td>0</td>\n",
       "    </tr>\n",
       "    <tr>\n",
       "      <th>3</th>\n",
       "      <td>0</td>\n",
       "      <td>16</td>\n",
       "      <td>1</td>\n",
       "      <td>3</td>\n",
       "      <td>1</td>\n",
       "      <td>0</td>\n",
       "      <td>1</td>\n",
       "      <td>1</td>\n",
       "      <td>1</td>\n",
       "      <td>2</td>\n",
       "      <td>1</td>\n",
       "    </tr>\n",
       "    <tr>\n",
       "      <th>4</th>\n",
       "      <td>1</td>\n",
       "      <td>16</td>\n",
       "      <td>2</td>\n",
       "      <td>19</td>\n",
       "      <td>3</td>\n",
       "      <td>6</td>\n",
       "      <td>1</td>\n",
       "      <td>1</td>\n",
       "      <td>3</td>\n",
       "      <td>0</td>\n",
       "      <td>0</td>\n",
       "    </tr>\n",
       "  </tbody>\n",
       "</table>\n",
       "</div>"
      ],
      "text/plain": [
       "   Customer_Category  Cust_State  Order_zone  CategoryName  Transcation  \\\n",
       "0                  0           1           0             9            3   \n",
       "1                  0           2           1             9            3   \n",
       "2                  1          13           3            40            0   \n",
       "3                  0          16           1             3            1   \n",
       "4                  1          16           2            19            3   \n",
       "\n",
       "   Dept_Name  Product_type  Dispatched  Shipping_Class  Warehouse_Region  \\\n",
       "0          0             0           0               3                 2   \n",
       "1          0             0           0               3                 2   \n",
       "2          3             1           0               3                 3   \n",
       "3          0             1           1               1                 2   \n",
       "4          6             1           1               3                 0   \n",
       "\n",
       "   WeekdayOrder  \n",
       "0             0  \n",
       "1             1  \n",
       "2             0  \n",
       "3             1  \n",
       "4             0  "
      ]
     },
     "execution_count": 15,
     "metadata": {},
     "output_type": "execute_result"
    }
   ],
   "source": [
    "from sklearn.preprocessing import LabelEncoder\n",
    "\n",
    "labelencoder=LabelEncoder()\n",
    "\n",
    "x_cat_label=pd.DataFrame()\n",
    "\n",
    "for variable in x_cat.columns:\n",
    "    x_cat_label[variable]=labelencoder.fit_transform(x_cat[variable])\n",
    "    \n",
    "x_cat_label.head()"
   ]
  },
  {
   "cell_type": "code",
   "execution_count": 16,
   "id": "bbf67889",
   "metadata": {},
   "outputs": [
    {
     "data": {
      "text/html": [
       "<div>\n",
       "<style scoped>\n",
       "    .dataframe tbody tr th:only-of-type {\n",
       "        vertical-align: middle;\n",
       "    }\n",
       "\n",
       "    .dataframe tbody tr th {\n",
       "        vertical-align: top;\n",
       "    }\n",
       "\n",
       "    .dataframe thead th {\n",
       "        text-align: right;\n",
       "    }\n",
       "</style>\n",
       "<table border=\"1\" class=\"dataframe\">\n",
       "  <thead>\n",
       "    <tr style=\"text-align: right;\">\n",
       "      <th></th>\n",
       "      <th>Sales</th>\n",
       "      <th>Price</th>\n",
       "      <th>Profit_Ratio</th>\n",
       "      <th>Discount</th>\n",
       "      <th>Quantity</th>\n",
       "      <th>Order_Profit</th>\n",
       "      <th>Prod_Category_Id</th>\n",
       "      <th>ProductLength</th>\n",
       "      <th>ProductWeight</th>\n",
       "      <th>Scheduled_Shipping</th>\n",
       "      <th>Delivery_Review</th>\n",
       "      <th>Session_Ordered</th>\n",
       "      <th>Customer_Category</th>\n",
       "      <th>Cust_State</th>\n",
       "      <th>Order_zone</th>\n",
       "      <th>CategoryName</th>\n",
       "      <th>Transcation</th>\n",
       "      <th>Dept_Name</th>\n",
       "      <th>Product_type</th>\n",
       "      <th>Dispatched</th>\n",
       "      <th>Shipping_Class</th>\n",
       "      <th>Warehouse_Region</th>\n",
       "      <th>WeekdayOrder</th>\n",
       "    </tr>\n",
       "  </thead>\n",
       "  <tbody>\n",
       "    <tr>\n",
       "      <th>0</th>\n",
       "      <td>-0.244791</td>\n",
       "      <td>-0.508805</td>\n",
       "      <td>-0.843862</td>\n",
       "      <td>-0.076716</td>\n",
       "      <td>0.493822</td>\n",
       "      <td>-0.713584</td>\n",
       "      <td>-0.855731</td>\n",
       "      <td>2.043590</td>\n",
       "      <td>-0.009102</td>\n",
       "      <td>0.177914</td>\n",
       "      <td>1.893526</td>\n",
       "      <td>-0.001437</td>\n",
       "      <td>0</td>\n",
       "      <td>1</td>\n",
       "      <td>0</td>\n",
       "      <td>9</td>\n",
       "      <td>3</td>\n",
       "      <td>0</td>\n",
       "      <td>0</td>\n",
       "      <td>0</td>\n",
       "      <td>3</td>\n",
       "      <td>2</td>\n",
       "      <td>0</td>\n",
       "    </tr>\n",
       "    <tr>\n",
       "      <th>1</th>\n",
       "      <td>-0.075472</td>\n",
       "      <td>-0.522323</td>\n",
       "      <td>1.200825</td>\n",
       "      <td>0.770368</td>\n",
       "      <td>0.493822</td>\n",
       "      <td>0.183421</td>\n",
       "      <td>-0.855731</td>\n",
       "      <td>-0.186692</td>\n",
       "      <td>-0.173822</td>\n",
       "      <td>1.516062</td>\n",
       "      <td>-1.595304</td>\n",
       "      <td>-0.001437</td>\n",
       "      <td>0</td>\n",
       "      <td>2</td>\n",
       "      <td>1</td>\n",
       "      <td>9</td>\n",
       "      <td>3</td>\n",
       "      <td>0</td>\n",
       "      <td>0</td>\n",
       "      <td>0</td>\n",
       "      <td>3</td>\n",
       "      <td>2</td>\n",
       "      <td>1</td>\n",
       "    </tr>\n",
       "    <tr>\n",
       "      <th>2</th>\n",
       "      <td>-0.007744</td>\n",
       "      <td>-0.627030</td>\n",
       "      <td>0.099840</td>\n",
       "      <td>-0.500258</td>\n",
       "      <td>1.171713</td>\n",
       "      <td>-0.397484</td>\n",
       "      <td>1.115905</td>\n",
       "      <td>-0.425651</td>\n",
       "      <td>-0.354822</td>\n",
       "      <td>1.516062</td>\n",
       "      <td>0.730583</td>\n",
       "      <td>-0.001437</td>\n",
       "      <td>1</td>\n",
       "      <td>13</td>\n",
       "      <td>3</td>\n",
       "      <td>40</td>\n",
       "      <td>0</td>\n",
       "      <td>3</td>\n",
       "      <td>1</td>\n",
       "      <td>0</td>\n",
       "      <td>3</td>\n",
       "      <td>3</td>\n",
       "      <td>0</td>\n",
       "    </tr>\n",
       "    <tr>\n",
       "      <th>3</th>\n",
       "      <td>-0.447975</td>\n",
       "      <td>0.230153</td>\n",
       "      <td>1.253253</td>\n",
       "      <td>1.052729</td>\n",
       "      <td>-0.861960</td>\n",
       "      <td>1.467341</td>\n",
       "      <td>-0.787743</td>\n",
       "      <td>-0.863742</td>\n",
       "      <td>0.036866</td>\n",
       "      <td>0.177914</td>\n",
       "      <td>0.730583</td>\n",
       "      <td>1.249356</td>\n",
       "      <td>0</td>\n",
       "      <td>16</td>\n",
       "      <td>1</td>\n",
       "      <td>3</td>\n",
       "      <td>1</td>\n",
       "      <td>0</td>\n",
       "      <td>1</td>\n",
       "      <td>1</td>\n",
       "      <td>1</td>\n",
       "      <td>2</td>\n",
       "      <td>1</td>\n",
       "    </tr>\n",
       "    <tr>\n",
       "      <th>4</th>\n",
       "      <td>0.014831</td>\n",
       "      <td>-0.756144</td>\n",
       "      <td>-0.581723</td>\n",
       "      <td>0.770368</td>\n",
       "      <td>1.171713</td>\n",
       "      <td>-0.708779</td>\n",
       "      <td>-0.039881</td>\n",
       "      <td>-0.903569</td>\n",
       "      <td>-0.558807</td>\n",
       "      <td>0.846988</td>\n",
       "      <td>-1.595304</td>\n",
       "      <td>-1.252230</td>\n",
       "      <td>1</td>\n",
       "      <td>16</td>\n",
       "      <td>2</td>\n",
       "      <td>19</td>\n",
       "      <td>3</td>\n",
       "      <td>6</td>\n",
       "      <td>1</td>\n",
       "      <td>1</td>\n",
       "      <td>3</td>\n",
       "      <td>0</td>\n",
       "      <td>0</td>\n",
       "    </tr>\n",
       "  </tbody>\n",
       "</table>\n",
       "</div>"
      ],
      "text/plain": [
       "      Sales     Price  Profit_Ratio  Discount  Quantity  Order_Profit   \\\n",
       "0 -0.244791 -0.508805     -0.843862 -0.076716  0.493822      -0.713584   \n",
       "1 -0.075472 -0.522323      1.200825  0.770368  0.493822       0.183421   \n",
       "2 -0.007744 -0.627030      0.099840 -0.500258  1.171713      -0.397484   \n",
       "3 -0.447975  0.230153      1.253253  1.052729 -0.861960       1.467341   \n",
       "4  0.014831 -0.756144     -0.581723  0.770368  1.171713      -0.708779   \n",
       "\n",
       "   Prod_Category_Id  ProductLength  ProductWeight  Scheduled_Shipping  \\\n",
       "0         -0.855731       2.043590      -0.009102            0.177914   \n",
       "1         -0.855731      -0.186692      -0.173822            1.516062   \n",
       "2          1.115905      -0.425651      -0.354822            1.516062   \n",
       "3         -0.787743      -0.863742       0.036866            0.177914   \n",
       "4         -0.039881      -0.903569      -0.558807            0.846988   \n",
       "\n",
       "   Delivery_Review  Session_Ordered  Customer_Category  Cust_State  \\\n",
       "0         1.893526        -0.001437                  0           1   \n",
       "1        -1.595304        -0.001437                  0           2   \n",
       "2         0.730583        -0.001437                  1          13   \n",
       "3         0.730583         1.249356                  0          16   \n",
       "4        -1.595304        -1.252230                  1          16   \n",
       "\n",
       "   Order_zone  CategoryName  Transcation  Dept_Name  Product_type  Dispatched  \\\n",
       "0           0             9            3          0             0           0   \n",
       "1           1             9            3          0             0           0   \n",
       "2           3            40            0          3             1           0   \n",
       "3           1             3            1          0             1           1   \n",
       "4           2            19            3          6             1           1   \n",
       "\n",
       "   Shipping_Class  Warehouse_Region  WeekdayOrder  \n",
       "0               3                 2             0  \n",
       "1               3                 2             1  \n",
       "2               3                 3             0  \n",
       "3               1                 2             1  \n",
       "4               3                 0             0  "
      ]
     },
     "execution_count": 16,
     "metadata": {},
     "output_type": "execute_result"
    }
   ],
   "source": [
    "x_fin=pd.concat([x_num_scale,x_cat_label],axis=1)\n",
    "\n",
    "#x_fin.drop(columns=['index'],axis=1,inplace=True)\n",
    "\n",
    "df_target.drop(columns=['index'],axis=1,inplace=True)\n",
    "\n",
    "x_fin.head()"
   ]
  },
  {
   "cell_type": "code",
   "execution_count": 17,
   "id": "8c1e6fdd",
   "metadata": {},
   "outputs": [],
   "source": [
    "import statsmodels\n",
    "import statsmodels.api as sm\n",
    "from sklearn import metrics\n",
    "from sklearn.metrics import classification_report\n",
    "from sklearn.model_selection import train_test_split\n",
    "from sklearn.linear_model import LogisticRegression\n",
    "from sklearn.metrics import f1_score"
   ]
  },
  {
   "cell_type": "code",
   "execution_count": 18,
   "id": "17445c4b",
   "metadata": {},
   "outputs": [
    {
     "name": "stdout",
     "output_type": "stream",
     "text": [
      "(62144, 23)\n",
      "(26634, 23)\n",
      "(62144,)\n",
      "(26634,)\n"
     ]
    }
   ],
   "source": [
    "#X=sm.add_constant(x_fin)\n",
    "\n",
    "df_target=df_iqr['Delivery_Status'].copy()\n",
    "\n",
    "X_train, X_test, y_train, y_test = train_test_split(x_fin,df_target ,test_size=0.3,)\n",
    "\n",
    "print(X_train.shape)\n",
    "\n",
    "print(X_test.shape)\n",
    "\n",
    "print(y_train.shape)\n",
    "\n",
    "print(y_test.shape)"
   ]
  },
  {
   "cell_type": "markdown",
   "id": "64a25e50",
   "metadata": {},
   "source": [
    "#### Create a generalized function to calculate the metrics for the test set."
   ]
  },
  {
   "cell_type": "code",
   "execution_count": 19,
   "id": "b1eccca2",
   "metadata": {},
   "outputs": [],
   "source": [
    "# create a generalized function to calculate the metrics values for test set\n",
    "def get_test_report(model):\n",
    "    \n",
    "    # for test set:\n",
    "    # test_pred: prediction made by the model on the test dataset 'X_test'\n",
    "    # y_test: actual values of the target variable for the test dataset\n",
    "\n",
    "    # predict the output of the target variable from the test data \n",
    "    test_pred = model.predict(X_test)\n",
    "\n",
    "    # return the classification report for test data\n",
    "    return(classification_report(y_test, test_pred))"
   ]
  },
  {
   "cell_type": "code",
   "execution_count": 20,
   "id": "c0c1d29d",
   "metadata": {},
   "outputs": [],
   "source": [
    "# create a generalized function to calculate the metrics values for test set\n",
    "def get_train_report(model):\n",
    "    \n",
    "    # for test set:\n",
    "    # test_pred: prediction made by the model on the test dataset 'X_test'\n",
    "    # y_test: actual values of the target variable for the test dataset\n",
    "\n",
    "    # predict the output of the target variable from the test data \n",
    "    train_pred = model.predict(X_train)\n",
    "\n",
    "    # return the classification report for test data\n",
    "    return(classification_report(y_train, train_pred))"
   ]
  },
  {
   "cell_type": "markdown",
   "id": "d39c851b",
   "metadata": {},
   "source": [
    "#### Plot the confusion matrix."
   ]
  },
  {
   "cell_type": "code",
   "execution_count": 21,
   "id": "d41af0e2",
   "metadata": {},
   "outputs": [],
   "source": [
    "def plot_confusion_matrix(model):\n",
    "    y_pred = model.predict(X_test)\n",
    "    \n",
    "    # create a confusion matrix\n",
    "    # pass the actual and predicted target values to the confusion_matrix()\n",
    "    cm = confusion_matrix(y_test, y_pred)\n",
    "\n",
    "    # label the confusion matrix  \n",
    "    # pass the matrix as 'data'\n",
    "    # pass the required column names to the parameter, 'columns'\n",
    "    # pass the required row names to the parameter, 'index'\n",
    "    conf_matrix = pd.DataFrame(data = cm,columns = ['Predicted:0','Predicted:1'], index = ['Actual:0','Actual:1'])\n",
    "\n",
    "    # plot a heatmap to visualize the confusion matrix\n",
    "    # 'annot' prints the value of each grid \n",
    "    # 'fmt = d' returns the integer value in each grid\n",
    "    # 'cmap' assigns color to each grid\n",
    "    # as we do not require different colors for each grid in the heatmap,\n",
    "    # use 'ListedColormap' to assign the specified color to the grid\n",
    "    # 'cbar = False' will not return the color bar to the right side of the heatmap\n",
    "    # 'linewidths' assigns the width to the line that divides each grid\n",
    "    # 'annot_kws = {'size':25})' assigns the font size of the annotated text \n",
    "    sns.heatmap(conf_matrix, annot = True, fmt = 'd', cmap = ListedColormap(['lightskyblue']), cbar = False, \n",
    "                linewidths = 0.1, annot_kws = {'size':25})\n",
    "\n",
    "    # set the font size of x-axis ticks using 'fontsize'\n",
    "    plt.xticks(fontsize = 20)\n",
    "\n",
    "    # set the font size of y-axis ticks using 'fontsize'\n",
    "    plt.yticks(fontsize = 20)\n",
    "\n",
    "    # display the plot\n",
    "    plt.show()"
   ]
  },
  {
   "cell_type": "markdown",
   "id": "2538ac6f",
   "metadata": {},
   "source": [
    "#### Plot the ROC curve."
   ]
  },
  {
   "cell_type": "code",
   "execution_count": 22,
   "id": "5d0935fc",
   "metadata": {},
   "outputs": [],
   "source": [
    "def plot_roc(model):\n",
    "    y_pred_prob = model.predict_proba(X_test)[:,1]\n",
    "    \n",
    "    # the roc_curve() returns the values for false positive rate, true positive rate and threshold\n",
    "    # pass the actual target values and predicted probabilities to the function\n",
    "    fpr, tpr, thresholds = roc_curve(y_test, y_pred_prob)\n",
    "\n",
    "    # plot the ROC curve\n",
    "    plt.plot(fpr, tpr)\n",
    "\n",
    "    # set limits for x and y axes\n",
    "    plt.xlim([0.0, 1.0])\n",
    "    plt.ylim([0.0, 1.0])\n",
    "\n",
    "    # plot the straight line showing worst prediction for the model\n",
    "    plt.plot([0, 1], [0, 1],'r--')\n",
    "\n",
    "    # add plot and axes labels\n",
    "    # set text size using 'fontsize'\n",
    "    plt.title('ROC curve for Admission Prediction Classifier', fontsize = 15)\n",
    "    plt.xlabel('False positive rate (1-Specificity)', fontsize = 15)\n",
    "    plt.ylabel('True positive rate (Sensitivity)', fontsize = 15)\n",
    "\n",
    "    # add the AUC score to the plot\n",
    "    # 'x' and 'y' gives position of the text\n",
    "    # 's' is the text \n",
    "    # use round() to round-off the AUC score upto 4 digits\n",
    "    plt.text(x = 0.0, y = 0.9, s = ('AUC Score:',round(roc_auc_score(y_test, y_pred_prob),4)))\n",
    "\n",
    "    # plot the grid\n",
    "    plt.grid(True)\n",
    "    \n",
    "    plt.show()"
   ]
  },
  {
   "cell_type": "markdown",
   "id": "c6c40a0f",
   "metadata": {},
   "source": [
    "### Base Model:"
   ]
  },
  {
   "cell_type": "code",
   "execution_count": 23,
   "id": "db336c8d",
   "metadata": {},
   "outputs": [],
   "source": [
    "model=LogisticRegression()\n",
    "\n",
    "base_model=model.fit(X_train,y_train)"
   ]
  },
  {
   "cell_type": "code",
   "execution_count": 36,
   "id": "286d4d6a",
   "metadata": {},
   "outputs": [],
   "source": [
    "base_pred=base_model.predict_proba(X_test)[:,1]\n",
    "\n",
    "base_pred_train=base_model.predict_proba(X_train)[:,1]"
   ]
  },
  {
   "cell_type": "code",
   "execution_count": 29,
   "id": "116138e0",
   "metadata": {},
   "outputs": [
    {
     "data": {
      "image/png": "[encoded data removed]",
      "text/plain": [
       "<Figure size 640x480 with 1 Axes>"
      ]
     },
     "metadata": {},
     "output_type": "display_data"
    }
   ],
   "source": [
    "# the roc_curve() returns the values for false positive rate, true positive rate and threshold\n",
    "# pass the actual target values and predicted probabilities to the function\n",
    "fpr, tpr, thresholds = roc_curve(y_test, base_pred)\n",
    "\n",
    "# plot the ROC curve\n",
    "plt.plot(fpr, tpr)\n",
    "\n",
    "# set limits for x and y axes\n",
    "plt.xlim([0.0, 1.0])\n",
    "plt.ylim([0.0, 1.0])\n",
    "\n",
    "# plot the straight line showing worst prediction for the model\n",
    "plt.plot([0, 1], [0, 1],'r--')\n",
    "\n",
    "# add plot and axes labels\n",
    "# set text size using 'fontsize'\n",
    "plt.title('ROC curve for Admission Prediction Classifier', fontsize = 15)\n",
    "plt.xlabel('False positive rate (1-Specificity)', fontsize = 15)\n",
    "plt.ylabel('True positive rate (Sensitivity)', fontsize = 15)\n",
    "\n",
    "# add the AUC score to the plot\n",
    "# 'x' and 'y' gives position of the text\n",
    "# 's' is the text \n",
    "# use round() to round-off the AUC score upto 4 digits\n",
    "plt.text(x = 0.02, y = 0.9, s = ('AUC Score:', round(metrics.roc_auc_score(y_test, base_pred),4)))\n",
    "                               \n",
    "# plot the grid\n",
    "plt.grid(True)\n",
    "\n",
    "plt.show()"
   ]
  },
  {
   "cell_type": "code",
   "execution_count": 30,
   "id": "8d41e819",
   "metadata": {},
   "outputs": [
    {
     "data": {
      "text/html": [
       "<div>\n",
       "<style scoped>\n",
       "    .dataframe tbody tr th:only-of-type {\n",
       "        vertical-align: middle;\n",
       "    }\n",
       "\n",
       "    .dataframe tbody tr th {\n",
       "        vertical-align: top;\n",
       "    }\n",
       "\n",
       "    .dataframe thead th {\n",
       "        text-align: right;\n",
       "    }\n",
       "</style>\n",
       "<table border=\"1\" class=\"dataframe\">\n",
       "  <thead>\n",
       "    <tr style=\"text-align: right;\">\n",
       "      <th></th>\n",
       "      <th>TPR</th>\n",
       "      <th>FPR</th>\n",
       "      <th>Threshold</th>\n",
       "      <th>Difference</th>\n",
       "    </tr>\n",
       "  </thead>\n",
       "  <tbody>\n",
       "    <tr>\n",
       "      <th>0</th>\n",
       "      <td>0.963055</td>\n",
       "      <td>0.375591</td>\n",
       "      <td>0.247225</td>\n",
       "      <td>0.587463</td>\n",
       "    </tr>\n",
       "    <tr>\n",
       "      <th>1</th>\n",
       "      <td>0.962942</td>\n",
       "      <td>0.375535</td>\n",
       "      <td>0.248447</td>\n",
       "      <td>0.587407</td>\n",
       "    </tr>\n",
       "    <tr>\n",
       "      <th>2</th>\n",
       "      <td>0.962942</td>\n",
       "      <td>0.375591</td>\n",
       "      <td>0.248036</td>\n",
       "      <td>0.587351</td>\n",
       "    </tr>\n",
       "    <tr>\n",
       "      <th>3</th>\n",
       "      <td>0.962604</td>\n",
       "      <td>0.375310</td>\n",
       "      <td>0.252048</td>\n",
       "      <td>0.587294</td>\n",
       "    </tr>\n",
       "    <tr>\n",
       "      <th>4</th>\n",
       "      <td>0.961928</td>\n",
       "      <td>0.374634</td>\n",
       "      <td>0.254494</td>\n",
       "      <td>0.587294</td>\n",
       "    </tr>\n",
       "  </tbody>\n",
       "</table>\n",
       "</div>"
      ],
      "text/plain": [
       "        TPR       FPR  Threshold  Difference\n",
       "0  0.963055  0.375591   0.247225    0.587463\n",
       "1  0.962942  0.375535   0.248447    0.587407\n",
       "2  0.962942  0.375591   0.248036    0.587351\n",
       "3  0.962604  0.375310   0.252048    0.587294\n",
       "4  0.961928  0.374634   0.254494    0.587294"
      ]
     },
     "execution_count": 30,
     "metadata": {},
     "output_type": "execute_result"
    }
   ],
   "source": [
    "# create a dataframe to store the values for false positive rate, true positive rate and threshold\n",
    "youdens_table = pd.DataFrame({'TPR': tpr,\n",
    "                             'FPR': fpr,\n",
    "                             'Threshold': thresholds})\n",
    "\n",
    "# calculate the difference between TPR and FPR for each threshold and store the values in a new column 'Difference'\n",
    "youdens_table['Difference'] = youdens_table.TPR - youdens_table.FPR\n",
    "\n",
    "# sort the dataframe based on the values of difference \n",
    "# 'ascending = False' sorts the data in descending order\n",
    "# 'reset_index' resets the index of the dataframe\n",
    "# 'drop = True' drops the previous index\n",
    "youdens_table = youdens_table.sort_values('Difference', ascending = False).reset_index(drop = True)\n",
    "\n",
    "# print the first five observations\n",
    "youdens_table.head()\n"
   ]
  },
  {
   "cell_type": "code",
   "execution_count": 42,
   "id": "3a633dec",
   "metadata": {},
   "outputs": [],
   "source": [
    "# convert probabilities to 0 and 1 using 'if_else'\n",
    "base_y_pred = [ 0 if x < 0.247225 else 1 for x in base_pred]\n",
    "\n",
    "base_y_pred_train= [ 0 if x < 0.247225 else 1 for x in base_pred_train]"
   ]
  },
  {
   "cell_type": "code",
   "execution_count": 33,
   "id": "35cec74e",
   "metadata": {},
   "outputs": [
    {
     "data": {
      "image/png": "[encoded data removed]",
      "text/plain": [
       "<Figure size 640x480 with 1 Axes>"
      ]
     },
     "metadata": {},
     "output_type": "display_data"
    }
   ],
   "source": [
    "# create a confusion matrix\n",
    "# pass the actual and predicted target values to the confusion_matrix()\n",
    "cm = confusion_matrix(y_test, base_y_pred)\n",
    "\n",
    "# label the confusion matrix  \n",
    "# pass the matrix as 'data'\n",
    "# pass the required column names to the parameter, 'columns'\n",
    "# pass the required row names to the parameter, 'index'\n",
    "conf_matrix = pd.DataFrame(data = cm,columns = ['Predicted:0','Predicted:1'], index = ['Actual:0','Actual:1'])\n",
    "\n",
    "# plot a heatmap to visualize the confusion matrix\n",
    "# 'annot' prints the value of each grid \n",
    "# 'fmt = d' returns the integer value in each grid\n",
    "# 'cmap' assigns color to each grid\n",
    "# as we do not require different colors for each grid in the heatmap,\n",
    "# use 'ListedColormap' to assign the specified color to the grid\n",
    "# 'cbar = False' will not return the color bar to the right side of the heatmap\n",
    "# 'linewidths' assigns the width to the line that divides each grid\n",
    "# 'annot_kws = {'size':25})' assigns the font size of the annotated text \n",
    "sns.heatmap(conf_matrix, annot = True, fmt = 'd', cbar = False, \n",
    "            linewidths = 0.1, annot_kws = {'size':20})\n",
    "\n",
    "# set the font size of x-axis ticks using 'fontsize'\n",
    "plt.xticks(fontsize = 15)\n",
    "\n",
    "# set the font size of y-axis ticks using 'fontsize'\n",
    "plt.yticks(fontsize = 15)\n",
    "\n",
    "# display the plot\n",
    "plt.show()"
   ]
  },
  {
   "cell_type": "code",
   "execution_count": 43,
   "id": "99d46012",
   "metadata": {},
   "outputs": [
    {
     "data": {
      "text/plain": [
       "0.709578353253652"
      ]
     },
     "execution_count": 43,
     "metadata": {},
     "output_type": "execute_result"
    }
   ],
   "source": [
    "f1_score(y_test,base_y_pred)"
   ]
  },
  {
   "cell_type": "code",
   "execution_count": 44,
   "id": "3d773d47",
   "metadata": {},
   "outputs": [
    {
     "data": {
      "text/plain": [
       "0.7049881749742738"
      ]
     },
     "execution_count": 44,
     "metadata": {},
     "output_type": "execute_result"
    }
   ],
   "source": [
    "f1_score(y_train,base_y_pred_train)"
   ]
  },
  {
   "cell_type": "code",
   "execution_count": 35,
   "id": "172062bc",
   "metadata": {},
   "outputs": [
    {
     "name": "stdout",
     "output_type": "stream",
     "text": [
      "              precision    recall  f1-score   support\n",
      "\n",
      "           0       0.97      0.62      0.76     17756\n",
      "           1       0.56      0.96      0.71      8878\n",
      "\n",
      "    accuracy                           0.74     26634\n",
      "   macro avg       0.77      0.79      0.73     26634\n",
      "weighted avg       0.83      0.74      0.74     26634\n",
      "\n"
     ]
    }
   ],
   "source": [
    "print(classification_report(y_test,base_y_pred))"
   ]
  },
  {
   "cell_type": "code",
   "execution_count": 45,
   "id": "aad349eb",
   "metadata": {},
   "outputs": [
    {
     "name": "stdout",
     "output_type": "stream",
     "text": [
      "              precision    recall  f1-score   support\n",
      "\n",
      "           0       0.97      0.63      0.76     41920\n",
      "           1       0.56      0.97      0.70     20224\n",
      "\n",
      "    accuracy                           0.74     62144\n",
      "   macro avg       0.76      0.80      0.73     62144\n",
      "weighted avg       0.84      0.74      0.74     62144\n",
      "\n"
     ]
    }
   ],
   "source": [
    "print(classification_report(y_train,base_y_pred_train))"
   ]
  },
  {
   "cell_type": "markdown",
   "id": "fe88f6e7",
   "metadata": {},
   "source": [
    "### Build model using Varience inflation factor: "
   ]
  },
  {
   "cell_type": "code",
   "execution_count": 61,
   "id": "504f3ce3",
   "metadata": {},
   "outputs": [],
   "source": [
    "from statsmodels.stats.outliers_influence import variance_inflation_factor"
   ]
  },
  {
   "cell_type": "code",
   "execution_count": 92,
   "id": "cbbd87b4",
   "metadata": {},
   "outputs": [
    {
     "data": {
      "text/html": [
       "<div>\n",
       "<style scoped>\n",
       "    .dataframe tbody tr th:only-of-type {\n",
       "        vertical-align: middle;\n",
       "    }\n",
       "\n",
       "    .dataframe tbody tr th {\n",
       "        vertical-align: top;\n",
       "    }\n",
       "\n",
       "    .dataframe thead th {\n",
       "        text-align: right;\n",
       "    }\n",
       "</style>\n",
       "<table border=\"1\" class=\"dataframe\">\n",
       "  <thead>\n",
       "    <tr style=\"text-align: right;\">\n",
       "      <th></th>\n",
       "      <th>VIF_Factor</th>\n",
       "      <th>Features</th>\n",
       "    </tr>\n",
       "  </thead>\n",
       "  <tbody>\n",
       "    <tr>\n",
       "      <th>0</th>\n",
       "      <td>8.652013</td>\n",
       "      <td>Price</td>\n",
       "    </tr>\n",
       "    <tr>\n",
       "      <th>1</th>\n",
       "      <td>5.914356</td>\n",
       "      <td>CategoryName</td>\n",
       "    </tr>\n",
       "    <tr>\n",
       "      <th>2</th>\n",
       "      <td>5.877413</td>\n",
       "      <td>Sales</td>\n",
       "    </tr>\n",
       "    <tr>\n",
       "      <th>3</th>\n",
       "      <td>5.107753</td>\n",
       "      <td>Quantity</td>\n",
       "    </tr>\n",
       "    <tr>\n",
       "      <th>4</th>\n",
       "      <td>4.129565</td>\n",
       "      <td>Dept_Name</td>\n",
       "    </tr>\n",
       "    <tr>\n",
       "      <th>5</th>\n",
       "      <td>3.895674</td>\n",
       "      <td>Transcation</td>\n",
       "    </tr>\n",
       "    <tr>\n",
       "      <th>6</th>\n",
       "      <td>3.796325</td>\n",
       "      <td>Shipping_Class</td>\n",
       "    </tr>\n",
       "    <tr>\n",
       "      <th>7</th>\n",
       "      <td>3.556561</td>\n",
       "      <td>Order_Profit</td>\n",
       "    </tr>\n",
       "    <tr>\n",
       "      <th>8</th>\n",
       "      <td>3.256085</td>\n",
       "      <td>Cust_State</td>\n",
       "    </tr>\n",
       "    <tr>\n",
       "      <th>9</th>\n",
       "      <td>2.746964</td>\n",
       "      <td>Order_zone</td>\n",
       "    </tr>\n",
       "    <tr>\n",
       "      <th>10</th>\n",
       "      <td>2.694407</td>\n",
       "      <td>Profit_Ratio</td>\n",
       "    </tr>\n",
       "    <tr>\n",
       "      <th>11</th>\n",
       "      <td>2.581603</td>\n",
       "      <td>Warehouse_Region</td>\n",
       "    </tr>\n",
       "    <tr>\n",
       "      <th>12</th>\n",
       "      <td>2.132305</td>\n",
       "      <td>Product_type</td>\n",
       "    </tr>\n",
       "    <tr>\n",
       "      <th>13</th>\n",
       "      <td>1.903541</td>\n",
       "      <td>WeekdayOrder</td>\n",
       "    </tr>\n",
       "    <tr>\n",
       "      <th>14</th>\n",
       "      <td>1.699464</td>\n",
       "      <td>Customer_Category</td>\n",
       "    </tr>\n",
       "    <tr>\n",
       "      <th>15</th>\n",
       "      <td>1.642830</td>\n",
       "      <td>Prod_Category_Id</td>\n",
       "    </tr>\n",
       "    <tr>\n",
       "      <th>16</th>\n",
       "      <td>1.604334</td>\n",
       "      <td>Dispatched</td>\n",
       "    </tr>\n",
       "    <tr>\n",
       "      <th>17</th>\n",
       "      <td>1.489633</td>\n",
       "      <td>ProductWeight</td>\n",
       "    </tr>\n",
       "    <tr>\n",
       "      <th>18</th>\n",
       "      <td>1.475082</td>\n",
       "      <td>ProductLength</td>\n",
       "    </tr>\n",
       "    <tr>\n",
       "      <th>19</th>\n",
       "      <td>1.091099</td>\n",
       "      <td>Discount</td>\n",
       "    </tr>\n",
       "    <tr>\n",
       "      <th>20</th>\n",
       "      <td>1.082350</td>\n",
       "      <td>Scheduled_Shipping</td>\n",
       "    </tr>\n",
       "    <tr>\n",
       "      <th>21</th>\n",
       "      <td>1.001069</td>\n",
       "      <td>Delivery_Review</td>\n",
       "    </tr>\n",
       "    <tr>\n",
       "      <th>22</th>\n",
       "      <td>1.000218</td>\n",
       "      <td>Session_Ordered</td>\n",
       "    </tr>\n",
       "  </tbody>\n",
       "</table>\n",
       "</div>"
      ],
      "text/plain": [
       "    VIF_Factor            Features\n",
       "0     8.652013               Price\n",
       "1     5.914356        CategoryName\n",
       "2     5.877413               Sales\n",
       "3     5.107753            Quantity\n",
       "4     4.129565           Dept_Name\n",
       "5     3.895674         Transcation\n",
       "6     3.796325      Shipping_Class\n",
       "7     3.556561       Order_Profit \n",
       "8     3.256085          Cust_State\n",
       "9     2.746964          Order_zone\n",
       "10    2.694407        Profit_Ratio\n",
       "11    2.581603    Warehouse_Region\n",
       "12    2.132305        Product_type\n",
       "13    1.903541        WeekdayOrder\n",
       "14    1.699464   Customer_Category\n",
       "15    1.642830    Prod_Category_Id\n",
       "16    1.604334          Dispatched\n",
       "17    1.489633       ProductWeight\n",
       "18    1.475082       ProductLength\n",
       "19    1.091099            Discount\n",
       "20    1.082350  Scheduled_Shipping\n",
       "21    1.001069     Delivery_Review\n",
       "22    1.000218     Session_Ordered"
      ]
     },
     "execution_count": 92,
     "metadata": {},
     "output_type": "execute_result"
    }
   ],
   "source": [
    "# create an empty dataframe to store the VIF for each variable\n",
    "vif = pd.DataFrame()\n",
    "\n",
    "# calculate VIF using list comprehension \n",
    "# use for loop to access each variable \n",
    "# calculate VIF for each variable and create a column 'VIF_Factor' to store the values \n",
    "vif[\"VIF_Factor\"] = [variance_inflation_factor(x_fin.values, i) for i in range(x_fin.shape[1])]\n",
    "\n",
    "# create a column of variable names\n",
    "vif[\"Features\"] = x_fin.columns\n",
    "\n",
    "# sort the dataframe based on the values of VIF_Factor in descending order\n",
    "# 'ascending = False' sorts the data in descending order\n",
    "# 'reset_index' resets the index of the dataframe\n",
    "# 'drop = True' drops the previous index\n",
    "vif.sort_values('VIF_Factor', ascending = False).reset_index(drop = True)"
   ]
  },
  {
   "cell_type": "code",
   "execution_count": null,
   "id": "7b3ced09",
   "metadata": {},
   "outputs": [],
   "source": []
  },
  {
   "cell_type": "code",
   "execution_count": 94,
   "id": "1d17a6c7",
   "metadata": {},
   "outputs": [],
   "source": [
    "# import functions to perform feature selection\n",
    "from mlxtend.feature_selection import SequentialFeatureSelector as sfs"
   ]
  },
  {
   "cell_type": "code",
   "execution_count": 95,
   "id": "8240dc7f",
   "metadata": {
    "scrolled": true
   },
   "outputs": [
    {
     "name": "stderr",
     "output_type": "stream",
     "text": [
      "[Parallel(n_jobs=1)]: Using backend SequentialBackend with 1 concurrent workers.\n",
      "[Parallel(n_jobs=1)]: Done   1 out of   1 | elapsed:    0.3s remaining:    0.0s\n",
      "[Parallel(n_jobs=1)]: Done  23 out of  23 | elapsed:    8.8s finished\n",
      "\n",
      "[2021-10-22 12:06:43] Features: 1/23 -- score: 0.695690581401621[Parallel(n_jobs=1)]: Using backend SequentialBackend with 1 concurrent workers.\n",
      "[Parallel(n_jobs=1)]: Done   1 out of   1 | elapsed:    0.1s remaining:    0.0s\n",
      "[Parallel(n_jobs=1)]: Done  22 out of  22 | elapsed:    8.7s finished\n",
      "\n",
      "[2021-10-22 12:06:52] Features: 2/23 -- score: 0.695690581401621[Parallel(n_jobs=1)]: Using backend SequentialBackend with 1 concurrent workers.\n",
      "[Parallel(n_jobs=1)]: Done   1 out of   1 | elapsed:    0.3s remaining:    0.0s\n",
      "[Parallel(n_jobs=1)]: Done  21 out of  21 | elapsed:    9.3s finished\n",
      "\n",
      "[2021-10-22 12:07:01] Features: 3/23 -- score: 0.695690581401621[Parallel(n_jobs=1)]: Using backend SequentialBackend with 1 concurrent workers.\n",
      "[Parallel(n_jobs=1)]: Done   1 out of   1 | elapsed:    0.2s remaining:    0.0s\n",
      "[Parallel(n_jobs=1)]: Done  20 out of  20 | elapsed:   10.6s finished\n",
      "\n",
      "[2021-10-22 12:07:12] Features: 4/23 -- score: 0.695690581401621[Parallel(n_jobs=1)]: Using backend SequentialBackend with 1 concurrent workers.\n",
      "[Parallel(n_jobs=1)]: Done   1 out of   1 | elapsed:    0.3s remaining:    0.0s\n",
      "[Parallel(n_jobs=1)]: Done  19 out of  19 | elapsed:   12.2s finished\n",
      "\n",
      "[2021-10-22 12:07:25] Features: 5/23 -- score: 0.695690581401621[Parallel(n_jobs=1)]: Using backend SequentialBackend with 1 concurrent workers.\n",
      "[Parallel(n_jobs=1)]: Done   1 out of   1 | elapsed:    0.6s remaining:    0.0s\n",
      "[Parallel(n_jobs=1)]: Done  18 out of  18 | elapsed:   12.1s finished\n",
      "\n",
      "[2021-10-22 12:07:37] Features: 6/23 -- score: 0.695690581401621[Parallel(n_jobs=1)]: Using backend SequentialBackend with 1 concurrent workers.\n",
      "[Parallel(n_jobs=1)]: Done   1 out of   1 | elapsed:    0.7s remaining:    0.0s\n",
      "[Parallel(n_jobs=1)]: Done  17 out of  17 | elapsed:   15.5s finished\n",
      "\n",
      "[2021-10-22 12:07:52] Features: 7/23 -- score: 0.695690581401621[Parallel(n_jobs=1)]: Using backend SequentialBackend with 1 concurrent workers.\n",
      "[Parallel(n_jobs=1)]: Done   1 out of   1 | elapsed:    0.5s remaining:    0.0s\n",
      "[Parallel(n_jobs=1)]: Done  16 out of  16 | elapsed:   14.7s finished\n",
      "\n",
      "[2021-10-22 12:08:07] Features: 8/23 -- score: 0.6957388607781416[Parallel(n_jobs=1)]: Using backend SequentialBackend with 1 concurrent workers.\n",
      "[Parallel(n_jobs=1)]: Done   1 out of   1 | elapsed:    1.0s remaining:    0.0s\n",
      "[Parallel(n_jobs=1)]: Done  15 out of  15 | elapsed:   17.7s finished\n",
      "\n",
      "[2021-10-22 12:08:25] Features: 9/23 -- score: 0.6958675945608584[Parallel(n_jobs=1)]: Using backend SequentialBackend with 1 concurrent workers.\n",
      "[Parallel(n_jobs=1)]: Done   1 out of   1 | elapsed:    1.1s remaining:    0.0s\n",
      "[Parallel(n_jobs=1)]: Done  14 out of  14 | elapsed:   19.3s finished\n",
      "\n",
      "[2021-10-22 12:08:44] Features: 10/23 -- score: 0.6958675945608584[Parallel(n_jobs=1)]: Using backend SequentialBackend with 1 concurrent workers.\n",
      "[Parallel(n_jobs=1)]: Done   1 out of   1 | elapsed:    0.9s remaining:    0.0s\n",
      "[Parallel(n_jobs=1)]: Done  13 out of  13 | elapsed:   20.3s finished\n",
      "\n",
      "[2021-10-22 12:09:05] Features: 11/23 -- score: 0.6960769031633636[Parallel(n_jobs=1)]: Using backend SequentialBackend with 1 concurrent workers.\n",
      "[Parallel(n_jobs=1)]: Done   1 out of   1 | elapsed:    1.3s remaining:    0.0s\n",
      "[Parallel(n_jobs=1)]: Done  12 out of  12 | elapsed:   21.1s finished\n",
      "\n",
      "[2021-10-22 12:09:26] Features: 12/23 -- score: 0.6963504608331745[Parallel(n_jobs=1)]: Using backend SequentialBackend with 1 concurrent workers.\n",
      "[Parallel(n_jobs=1)]: Done   1 out of   1 | elapsed:    1.4s remaining:    0.0s\n",
      "[Parallel(n_jobs=1)]: Done  11 out of  11 | elapsed:   21.8s finished\n",
      "\n",
      "[2021-10-22 12:09:48] Features: 13/23 -- score: 0.6964952821307291[Parallel(n_jobs=1)]: Using backend SequentialBackend with 1 concurrent workers.\n",
      "[Parallel(n_jobs=1)]: Done   1 out of   1 | elapsed:    1.4s remaining:    0.0s\n",
      "[Parallel(n_jobs=1)]: Done  10 out of  10 | elapsed:   20.7s finished\n",
      "\n",
      "[2021-10-22 12:10:09] Features: 14/23 -- score: 0.6966722849318081[Parallel(n_jobs=1)]: Using backend SequentialBackend with 1 concurrent workers.\n",
      "[Parallel(n_jobs=1)]: Done   1 out of   1 | elapsed:    2.2s remaining:    0.0s\n",
      "[Parallel(n_jobs=1)]: Done   9 out of   9 | elapsed:   24.3s finished\n",
      "\n",
      "[2021-10-22 12:10:33] Features: 15/23 -- score: 0.6965757352421555[Parallel(n_jobs=1)]: Using backend SequentialBackend with 1 concurrent workers.\n",
      "[Parallel(n_jobs=1)]: Done   1 out of   1 | elapsed:    2.7s remaining:    0.0s\n",
      "[Parallel(n_jobs=1)]: Done   8 out of   8 | elapsed:   28.6s finished\n",
      "\n",
      "[2021-10-22 12:11:02] Features: 16/23 -- score: 0.6965757417160046[Parallel(n_jobs=1)]: Using backend SequentialBackend with 1 concurrent workers.\n",
      "[Parallel(n_jobs=1)]: Done   1 out of   1 | elapsed:    3.5s remaining:    0.0s\n",
      "[Parallel(n_jobs=1)]: Done   7 out of   7 | elapsed:   28.5s finished\n",
      "\n",
      "[2021-10-22 12:11:30] Features: 17/23 -- score: 0.6966079050927517[Parallel(n_jobs=1)]: Using backend SequentialBackend with 1 concurrent workers.\n",
      "[Parallel(n_jobs=1)]: Done   1 out of   1 | elapsed:    6.0s remaining:    0.0s\n",
      "[Parallel(n_jobs=1)]: Done   6 out of   6 | elapsed:   37.5s finished\n",
      "\n",
      "[2021-10-22 12:12:08] Features: 18/23 -- score: 0.6966239926075894[Parallel(n_jobs=1)]: Using backend SequentialBackend with 1 concurrent workers.\n",
      "[Parallel(n_jobs=1)]: Done   1 out of   1 | elapsed:    7.4s remaining:    0.0s\n",
      "[Parallel(n_jobs=1)]: Done   5 out of   5 | elapsed:   40.8s finished\n",
      "\n",
      "[2021-10-22 12:12:49] Features: 19/23 -- score: 0.696800999292978[Parallel(n_jobs=1)]: Using backend SequentialBackend with 1 concurrent workers.\n",
      "[Parallel(n_jobs=1)]: Done   1 out of   1 | elapsed:    8.1s remaining:    0.0s\n",
      "[Parallel(n_jobs=1)]: Done   4 out of   4 | elapsed:   31.1s finished\n",
      "\n",
      "[2021-10-22 12:13:20] Features: 20/23 -- score: 0.6969619184635288[Parallel(n_jobs=1)]: Using backend SequentialBackend with 1 concurrent workers.\n",
      "[Parallel(n_jobs=1)]: Done   1 out of   1 | elapsed:    6.6s remaining:    0.0s\n",
      "[Parallel(n_jobs=1)]: Done   3 out of   3 | elapsed:   19.7s finished\n",
      "\n",
      "[2021-10-22 12:13:40] Features: 21/23 -- score: 0.6967044470137858[Parallel(n_jobs=1)]: Using backend SequentialBackend with 1 concurrent workers.\n",
      "[Parallel(n_jobs=1)]: Done   1 out of   1 | elapsed:    8.0s remaining:    0.0s\n",
      "[Parallel(n_jobs=1)]: Done   2 out of   2 | elapsed:   16.1s finished\n",
      "\n",
      "[2021-10-22 12:13:56] Features: 22/23 -- score: 0.696302167214186[Parallel(n_jobs=1)]: Using backend SequentialBackend with 1 concurrent workers.\n",
      "[Parallel(n_jobs=1)]: Done   1 out of   1 | elapsed:    6.6s remaining:    0.0s\n",
      "[Parallel(n_jobs=1)]: Done   1 out of   1 | elapsed:    6.6s finished\n",
      "\n",
      "[2021-10-22 12:14:03] Features: 23/23 -- score: 0.6960446905853636"
     ]
    }
   ],
   "source": [
    "# Build RF classifier to use in feature selection\n",
    "log =LogisticRegression()\n",
    "\n",
    "# Build step forward feature selection\n",
    "sfs_log = sfs(log,\n",
    "           k_features='best',\n",
    "           forward=True,\n",
    "           floating=False,\n",
    "           verbose=2,\n",
    "           scoring='accuracy',\n",
    "           cv=5)\n",
    "\n",
    "# Perform SFFS\n",
    "sfs_log = sfs_log.fit(X_train, y_train)"
   ]
  },
  {
   "cell_type": "code",
   "execution_count": 98,
   "id": "ebd6ed56",
   "metadata": {},
   "outputs": [],
   "source": [
    "log_select_feature=list(sfs_log.k_feature_names_)"
   ]
  },
  {
   "cell_type": "code",
   "execution_count": 99,
   "id": "c1792c49",
   "metadata": {},
   "outputs": [],
   "source": [
    "log_X_train=X_train[log_select_feature]\n",
    "\n",
    "log_X_test=X_test[log_select_feature]"
   ]
  },
  {
   "cell_type": "code",
   "execution_count": 106,
   "id": "8402abdb",
   "metadata": {},
   "outputs": [],
   "source": [
    "model=LogisticRegression()\n",
    "\n",
    "log_model=model.fit(log_X_train,y_train)"
   ]
  },
  {
   "cell_type": "code",
   "execution_count": 122,
   "id": "65c4aff2",
   "metadata": {},
   "outputs": [
    {
     "data": {
      "text/plain": [
       "array([0.17097178, 0.08176362, 0.24545561, ..., 0.46387493, 0.183764  ,\n",
       "       0.16261798])"
      ]
     },
     "execution_count": 122,
     "metadata": {},
     "output_type": "execute_result"
    }
   ],
   "source": [
    "log_pred_test=log_model.predict_proba(log_X_test)[:,1]\n",
    "\n",
    "log_pred_test"
   ]
  },
  {
   "cell_type": "code",
   "execution_count": 123,
   "id": "1add5a17",
   "metadata": {},
   "outputs": [
    {
     "data": {
      "text/plain": [
       "array([0.47117662, 0.37123822, 0.36796871, ..., 0.73690232, 0.1457657 ,\n",
       "       0.37472108])"
      ]
     },
     "execution_count": 123,
     "metadata": {},
     "output_type": "execute_result"
    }
   ],
   "source": [
    "log_pred_train=log_model.predict_proba(log_X_train)[:,1]\n",
    "\n",
    "log_pred_train"
   ]
  },
  {
   "cell_type": "code",
   "execution_count": 124,
   "id": "bfc5c246",
   "metadata": {},
   "outputs": [
    {
     "data": {
      "image/png": "[encoded data removed]",
      "text/plain": [
       "<Figure size 640x480 with 1 Axes>"
      ]
     },
     "metadata": {},
     "output_type": "display_data"
    }
   ],
   "source": [
    "# the roc_curve() returns the values for false positive rate, true positive rate and threshold\n",
    "# pass the actual target values and predicted probabilities to the function\n",
    "fpr, tpr, thresholds = roc_curve(y_test, log_pred_test)\n",
    "\n",
    "# plot the ROC curve\n",
    "plt.plot(fpr, tpr)\n",
    "\n",
    "# set limits for x and y axes\n",
    "plt.xlim([0.0, 1.0])\n",
    "plt.ylim([0.0, 1.0])\n",
    "\n",
    "# plot the straight line showing worst prediction for the model\n",
    "plt.plot([0, 1], [0, 1],'r--')\n",
    "\n",
    "# add plot and axes labels\n",
    "# set text size using 'fontsize'\n",
    "plt.title('ROC curve for Admission Prediction Classifier', fontsize = 15)\n",
    "plt.xlabel('False positive rate (1-Specificity)', fontsize = 15)\n",
    "plt.ylabel('True positive rate (Sensitivity)', fontsize = 15)\n",
    "\n",
    "# add the AUC score to the plot\n",
    "# 'x' and 'y' gives position of the text\n",
    "# 's' is the text \n",
    "# use round() to round-off the AUC score upto 4 digits\n",
    "plt.text(x = 0.02, y = 0.9, s = ('AUC Score:', round(metrics.roc_auc_score(y_test, log_pred),4)))\n",
    "                               \n",
    "# plot the grid\n",
    "plt.grid(True)\n",
    "\n",
    "plt.show()"
   ]
  },
  {
   "cell_type": "code",
   "execution_count": 110,
   "id": "f96c01b1",
   "metadata": {},
   "outputs": [
    {
     "data": {
      "text/html": [
       "<div>\n",
       "<style scoped>\n",
       "    .dataframe tbody tr th:only-of-type {\n",
       "        vertical-align: middle;\n",
       "    }\n",
       "\n",
       "    .dataframe tbody tr th {\n",
       "        vertical-align: top;\n",
       "    }\n",
       "\n",
       "    .dataframe thead th {\n",
       "        text-align: right;\n",
       "    }\n",
       "</style>\n",
       "<table border=\"1\" class=\"dataframe\">\n",
       "  <thead>\n",
       "    <tr style=\"text-align: right;\">\n",
       "      <th></th>\n",
       "      <th>TPR</th>\n",
       "      <th>FPR</th>\n",
       "      <th>Threshold</th>\n",
       "      <th>Difference</th>\n",
       "    </tr>\n",
       "  </thead>\n",
       "  <tbody>\n",
       "    <tr>\n",
       "      <th>0</th>\n",
       "      <td>0.961868</td>\n",
       "      <td>0.373931</td>\n",
       "      <td>0.249697</td>\n",
       "      <td>0.587937</td>\n",
       "    </tr>\n",
       "    <tr>\n",
       "      <th>1</th>\n",
       "      <td>0.961984</td>\n",
       "      <td>0.374098</td>\n",
       "      <td>0.248888</td>\n",
       "      <td>0.587887</td>\n",
       "    </tr>\n",
       "    <tr>\n",
       "      <th>2</th>\n",
       "      <td>0.961637</td>\n",
       "      <td>0.373764</td>\n",
       "      <td>0.250899</td>\n",
       "      <td>0.587872</td>\n",
       "    </tr>\n",
       "    <tr>\n",
       "      <th>3</th>\n",
       "      <td>0.961868</td>\n",
       "      <td>0.374098</td>\n",
       "      <td>0.249144</td>\n",
       "      <td>0.587771</td>\n",
       "    </tr>\n",
       "    <tr>\n",
       "      <th>4</th>\n",
       "      <td>0.961637</td>\n",
       "      <td>0.373931</td>\n",
       "      <td>0.249897</td>\n",
       "      <td>0.587706</td>\n",
       "    </tr>\n",
       "  </tbody>\n",
       "</table>\n",
       "</div>"
      ],
      "text/plain": [
       "        TPR       FPR  Threshold  Difference\n",
       "0  0.961868  0.373931   0.249697    0.587937\n",
       "1  0.961984  0.374098   0.248888    0.587887\n",
       "2  0.961637  0.373764   0.250899    0.587872\n",
       "3  0.961868  0.374098   0.249144    0.587771\n",
       "4  0.961637  0.373931   0.249897    0.587706"
      ]
     },
     "execution_count": 110,
     "metadata": {},
     "output_type": "execute_result"
    }
   ],
   "source": [
    "# create a dataframe to store the values for false positive rate, true positive rate and threshold\n",
    "youdens_table = pd.DataFrame({'TPR': tpr,\n",
    "                             'FPR': fpr,\n",
    "                             'Threshold': thresholds})\n",
    "\n",
    "# calculate the difference between TPR and FPR for each threshold and store the values in a new column 'Difference'\n",
    "youdens_table['Difference'] = youdens_table.TPR - youdens_table.FPR\n",
    "\n",
    "# sort the dataframe based on the values of difference \n",
    "# 'ascending = False' sorts the data in descending order\n",
    "# 'reset_index' resets the index of the dataframe\n",
    "# 'drop = True' drops the previous index\n",
    "youdens_table = youdens_table.sort_values('Difference', ascending = False).reset_index(drop = True)\n",
    "\n",
    "# print the first five observations\n",
    "youdens_table.head()\n"
   ]
  },
  {
   "cell_type": "code",
   "execution_count": 127,
   "id": "10bc44ec",
   "metadata": {},
   "outputs": [],
   "source": [
    "# convert probabilities to 0 and 1 using 'if_else'\n",
    "log_y_pred_test = [ 0 if x < 0.249697 else 1 for x in log_pred_test]\n",
    "log_y_pred_train = [ 0 if x < 0.249697 else 1 for x in log_pred_train]"
   ]
  },
  {
   "cell_type": "code",
   "execution_count": 128,
   "id": "aa5e333a",
   "metadata": {},
   "outputs": [
    {
     "data": {
      "image/png": "[encoded data removed]",
      "text/plain": [
       "<Figure size 640x480 with 1 Axes>"
      ]
     },
     "metadata": {},
     "output_type": "display_data"
    }
   ],
   "source": [
    "# create a confusion matrix\n",
    "# pass the actual and predicted target values to the confusion_matrix()\n",
    "cm = confusion_matrix(y_test, log_y_pred_test)\n",
    "\n",
    "# label the confusion matrix  \n",
    "# pass the matrix as 'data'\n",
    "# pass the required column names to the parameter, 'columns'\n",
    "# pass the required row names to the parameter, 'index'\n",
    "conf_matrix = pd.DataFrame(data = cm,columns = ['Predicted:0','Predicted:1'], index = ['Actual:0','Actual:1'])\n",
    "\n",
    "# plot a heatmap to visualize the confusion matrix\n",
    "# 'annot' prints the value of each grid \n",
    "# 'fmt = d' returns the integer value in each grid\n",
    "# 'cmap' assigns color to each grid\n",
    "# as we do not require different colors for each grid in the heatmap,\n",
    "# use 'ListedColormap' to assign the specified color to the grid\n",
    "# 'cbar = False' will not return the color bar to the right side of the heatmap\n",
    "# 'linewidths' assigns the width to the line that divides each grid\n",
    "# 'annot_kws = {'size':25})' assigns the font size of the annotated text \n",
    "sns.heatmap(conf_matrix, annot = True, fmt = 'd', cbar = False, \n",
    "            linewidths = 0.1, annot_kws = {'size':20})\n",
    "\n",
    "# set the font size of x-axis ticks using 'fontsize'\n",
    "plt.xticks(fontsize = 15)\n",
    "\n",
    "# set the font size of y-axis ticks using 'fontsize'\n",
    "plt.yticks(fontsize = 15)\n",
    "\n",
    "# display the plot\n",
    "plt.show()"
   ]
  },
  {
   "cell_type": "code",
   "execution_count": 133,
   "id": "91ad86ca",
   "metadata": {},
   "outputs": [
    {
     "data": {
      "text/plain": [
       "0.7086027475775106"
      ]
     },
     "execution_count": 133,
     "metadata": {},
     "output_type": "execute_result"
    }
   ],
   "source": [
    "f1_score(y_train,log_y_pred_train)"
   ]
  },
  {
   "cell_type": "code",
   "execution_count": 129,
   "id": "f2b28d80",
   "metadata": {},
   "outputs": [
    {
     "data": {
      "text/plain": [
       "0.7015215553677092"
      ]
     },
     "execution_count": 129,
     "metadata": {},
     "output_type": "execute_result"
    }
   ],
   "source": [
    "f1_score(y_test,log_y_pred_test)"
   ]
  },
  {
   "cell_type": "code",
   "execution_count": 130,
   "id": "49e9be58",
   "metadata": {},
   "outputs": [
    {
     "name": "stdout",
     "output_type": "stream",
     "text": [
      "              precision    recall  f1-score   support\n",
      "\n",
      "           0       0.97      0.63      0.76     18006\n",
      "           1       0.55      0.96      0.70      8628\n",
      "\n",
      "    accuracy                           0.73     26634\n",
      "   macro avg       0.76      0.79      0.73     26634\n",
      "weighted avg       0.84      0.73      0.74     26634\n",
      "\n"
     ]
    }
   ],
   "source": [
    "print(classification_report(y_test,log_y_pred_test))"
   ]
  },
  {
   "cell_type": "code",
   "execution_count": 131,
   "id": "87808849",
   "metadata": {},
   "outputs": [
    {
     "name": "stdout",
     "output_type": "stream",
     "text": [
      "              precision    recall  f1-score   support\n",
      "\n",
      "           0       0.97      0.63      0.76     41670\n",
      "           1       0.56      0.97      0.71     20474\n",
      "\n",
      "    accuracy                           0.74     62144\n",
      "   macro avg       0.77      0.80      0.74     62144\n",
      "weighted avg       0.84      0.74      0.74     62144\n",
      "\n"
     ]
    }
   ],
   "source": [
    "print(classification_report(y_train,log_y_pred_train))"
   ]
  },
  {
   "cell_type": "markdown",
   "id": "d74cfe77",
   "metadata": {},
   "source": [
    "### XGBoost"
   ]
  },
  {
   "cell_type": "markdown",
   "id": "691f5055",
   "metadata": {},
   "source": [
    "#### Build an XGBoost model on a training dataset."
   ]
  },
  {
   "cell_type": "code",
   "execution_count": 134,
   "id": "9d9dc7e1",
   "metadata": {},
   "outputs": [],
   "source": [
    "# import the XGBoost function for classification\n",
    "from xgboost import XGBClassifier"
   ]
  },
  {
   "cell_type": "code",
   "execution_count": 138,
   "id": "3c8b5130",
   "metadata": {},
   "outputs": [
    {
     "name": "stdout",
     "output_type": "stream",
     "text": [
      "[12:39:21] WARNING: C:/Users/Administrator/workspace/xgboost-win64_release_1.4.0/src/learner.cc:1095: Starting in XGBoost 1.3.0, the default evaluation metric used with the objective 'binary:logistic' was changed from 'error' to 'logloss'. Explicitly set eval_metric if you'd like to restore the old behavior.\n"
     ]
    },
    {
     "data": {
      "text/plain": [
       "XGBClassifier(base_score=0.5, booster='gbtree', colsample_bylevel=1,\n",
       "              colsample_bynode=1, colsample_bytree=1, gamma=1, gpu_id=-1,\n",
       "              importance_type='gain', interaction_constraints='',\n",
       "              learning_rate=0.300000012, max_delta_step=0, max_depth=10,\n",
       "              min_child_weight=1, missing=nan, monotone_constraints='()',\n",
       "              n_estimators=100, n_jobs=4, num_parallel_tree=1, random_state=0,\n",
       "              reg_alpha=0, reg_lambda=1, scale_pos_weight=1, subsample=1,\n",
       "              tree_method='exact', validate_parameters=1, verbosity=None)"
      ]
     },
     "execution_count": 138,
     "metadata": {},
     "output_type": "execute_result"
    }
   ],
   "source": [
    "# instantiate the 'XGBClassifier'\n",
    "# set the maximum depth of the tree using the parameter, 'max_depth'\n",
    "# pass the value of minimum loss reduction required for partition of the leaf node to the parameter, 'gamma'\n",
    "xgb_model = XGBClassifier(max_depth = 10, gamma = 1)\n",
    "\n",
    "# fit the model using fit() on train data\n",
    "xgb_model.fit(log_X_train, y_train)"
   ]
  },
  {
   "cell_type": "code",
   "execution_count": 140,
   "id": "3f5e96a2",
   "metadata": {},
   "outputs": [
    {
     "data": {
      "text/plain": [
       "array([2.6066689e-04, 3.9036563e-04, 6.3742590e-03, ..., 9.1875559e-01,\n",
       "       3.0294405e-03, 6.1787019e-04], dtype=float32)"
      ]
     },
     "execution_count": 140,
     "metadata": {},
     "output_type": "execute_result"
    }
   ],
   "source": [
    "xgb_pred_test=xgb_model.predict_proba(log_X_test)[:,1]\n",
    "\n",
    "xgb_pred_test"
   ]
  },
  {
   "cell_type": "code",
   "execution_count": 141,
   "id": "c43c9d42",
   "metadata": {},
   "outputs": [
    {
     "data": {
      "text/plain": [
       "array([0.47117662, 0.37123822, 0.36796871, ..., 0.73690232, 0.1457657 ,\n",
       "       0.37472108])"
      ]
     },
     "execution_count": 141,
     "metadata": {},
     "output_type": "execute_result"
    }
   ],
   "source": [
    "xgb_pred_train=log_model.predict_proba(log_X_train)[:,1]\n",
    "\n",
    "xgb_pred_train"
   ]
  },
  {
   "cell_type": "code",
   "execution_count": 143,
   "id": "b751898d",
   "metadata": {},
   "outputs": [
    {
     "data": {
      "image/png": "[encoded data removed]",
      "text/plain": [
       "<Figure size 640x480 with 1 Axes>"
      ]
     },
     "metadata": {},
     "output_type": "display_data"
    }
   ],
   "source": [
    "# the roc_curve() returns the values for false positive rate, true positive rate and threshold\n",
    "# pass the actual target values and predicted probabilities to the function\n",
    "fpr, tpr, thresholds = roc_curve(y_test, xgb_pred_test)\n",
    "\n",
    "# plot the ROC curve\n",
    "plt.plot(fpr, tpr)\n",
    "\n",
    "# set limits for x and y axes\n",
    "plt.xlim([0.0, 1.0])\n",
    "plt.ylim([0.0, 1.0])\n",
    "\n",
    "# plot the straight line showing worst prediction for the model\n",
    "plt.plot([0, 1], [0, 1],'r--')\n",
    "\n",
    "# add plot and axes labels\n",
    "# set text size using 'fontsize'\n",
    "plt.title('ROC curve for Admission Prediction Classifier', fontsize = 15)\n",
    "plt.xlabel('False positive rate (1-Specificity)', fontsize = 15)\n",
    "plt.ylabel('True positive rate (Sensitivity)', fontsize = 15)\n",
    "\n",
    "# add the AUC score to the plot\n",
    "# 'x' and 'y' gives position of the text\n",
    "# 's' is the text \n",
    "# use round() to round-off the AUC score upto 4 digits\n",
    "plt.text(x = 0.02, y = 0.9, s = ('AUC Score:', round(metrics.roc_auc_score(y_test, xgb_pred_test),4)))\n",
    "                               \n",
    "# plot the grid\n",
    "plt.grid(True)\n",
    "\n",
    "plt.show()"
   ]
  },
  {
   "cell_type": "code",
   "execution_count": 144,
   "id": "6d9638d6",
   "metadata": {},
   "outputs": [
    {
     "data": {
      "text/html": [
       "<div>\n",
       "<style scoped>\n",
       "    .dataframe tbody tr th:only-of-type {\n",
       "        vertical-align: middle;\n",
       "    }\n",
       "\n",
       "    .dataframe tbody tr th {\n",
       "        vertical-align: top;\n",
       "    }\n",
       "\n",
       "    .dataframe thead th {\n",
       "        text-align: right;\n",
       "    }\n",
       "</style>\n",
       "<table border=\"1\" class=\"dataframe\">\n",
       "  <thead>\n",
       "    <tr style=\"text-align: right;\">\n",
       "      <th></th>\n",
       "      <th>TPR</th>\n",
       "      <th>FPR</th>\n",
       "      <th>Threshold</th>\n",
       "      <th>Difference</th>\n",
       "    </tr>\n",
       "  </thead>\n",
       "  <tbody>\n",
       "    <tr>\n",
       "      <th>0</th>\n",
       "      <td>0.999652</td>\n",
       "      <td>0.386982</td>\n",
       "      <td>0.057923</td>\n",
       "      <td>0.612670</td>\n",
       "    </tr>\n",
       "    <tr>\n",
       "      <th>1</th>\n",
       "      <td>0.999536</td>\n",
       "      <td>0.386927</td>\n",
       "      <td>0.060718</td>\n",
       "      <td>0.612610</td>\n",
       "    </tr>\n",
       "    <tr>\n",
       "      <th>2</th>\n",
       "      <td>0.999536</td>\n",
       "      <td>0.386982</td>\n",
       "      <td>0.060647</td>\n",
       "      <td>0.612554</td>\n",
       "    </tr>\n",
       "    <tr>\n",
       "      <th>3</th>\n",
       "      <td>0.999768</td>\n",
       "      <td>0.387260</td>\n",
       "      <td>0.038487</td>\n",
       "      <td>0.612508</td>\n",
       "    </tr>\n",
       "    <tr>\n",
       "      <th>4</th>\n",
       "      <td>0.999884</td>\n",
       "      <td>0.387426</td>\n",
       "      <td>0.035102</td>\n",
       "      <td>0.612458</td>\n",
       "    </tr>\n",
       "  </tbody>\n",
       "</table>\n",
       "</div>"
      ],
      "text/plain": [
       "        TPR       FPR  Threshold  Difference\n",
       "0  0.999652  0.386982   0.057923    0.612670\n",
       "1  0.999536  0.386927   0.060718    0.612610\n",
       "2  0.999536  0.386982   0.060647    0.612554\n",
       "3  0.999768  0.387260   0.038487    0.612508\n",
       "4  0.999884  0.387426   0.035102    0.612458"
      ]
     },
     "execution_count": 144,
     "metadata": {},
     "output_type": "execute_result"
    }
   ],
   "source": [
    "# create a dataframe to store the values for false positive rate, true positive rate and threshold\n",
    "youdens_table = pd.DataFrame({'TPR': tpr,\n",
    "                             'FPR': fpr,\n",
    "                             'Threshold': thresholds})\n",
    "\n",
    "# calculate the difference between TPR and FPR for each threshold and store the values in a new column 'Difference'\n",
    "youdens_table['Difference'] = youdens_table.TPR - youdens_table.FPR\n",
    "\n",
    "# sort the dataframe based on the values of difference \n",
    "# 'ascending = False' sorts the data in descending order\n",
    "# 'reset_index' resets the index of the dataframe\n",
    "# 'drop = True' drops the previous index\n",
    "youdens_table = youdens_table.sort_values('Difference', ascending = False).reset_index(drop = True)\n",
    "\n",
    "# print the first five observations\n",
    "youdens_table.head()\n"
   ]
  },
  {
   "cell_type": "code",
   "execution_count": 145,
   "id": "3d874b01",
   "metadata": {},
   "outputs": [],
   "source": [
    "# convert probabilities to 0 and 1 using 'if_else'\n",
    "xgb_y_pred_test = [ 0 if x < 0.057923 else 1 for x in xgb_pred_test]\n",
    "xgb_y_pred_train = [ 0 if x < 0.057923 else 1 for x in xgb_pred_train]"
   ]
  },
  {
   "cell_type": "code",
   "execution_count": 147,
   "id": "9a20adab",
   "metadata": {},
   "outputs": [
    {
     "data": {
      "image/png": "[encoded data removed]",
      "text/plain": [
       "<Figure size 640x480 with 1 Axes>"
      ]
     },
     "metadata": {},
     "output_type": "display_data"
    }
   ],
   "source": [
    "# create a confusion matrix\n",
    "# pass the actual and predicted target values to the confusion_matrix()\n",
    "cm = confusion_matrix(y_test, xgb_y_pred_test)\n",
    "\n",
    "# label the confusion matrix  \n",
    "# pass the matrix as 'data'\n",
    "# pass the required column names to the parameter, 'columns'\n",
    "# pass the required row names to the parameter, 'index'\n",
    "conf_matrix = pd.DataFrame(data = cm,columns = ['Predicted:0','Predicted:1'], index = ['Actual:0','Actual:1'])\n",
    "\n",
    "# plot a heatmap to visualize the confusion matrix\n",
    "# 'annot' prints the value of each grid \n",
    "# 'fmt = d' returns the integer value in each grid\n",
    "# 'cmap' assigns color to each grid\n",
    "# as we do not require different colors for each grid in the heatmap,\n",
    "# use 'ListedColormap' to assign the specified color to the grid\n",
    "# 'cbar = False' will not return the color bar to the right side of the heatmap\n",
    "# 'linewidths' assigns the width to the line that divides each grid\n",
    "# 'annot_kws = {'size':25})' assigns the font size of the annotated text \n",
    "sns.heatmap(conf_matrix, annot = True, fmt = 'd', cbar = False, \n",
    "            linewidths = 0.1, annot_kws = {'size':20})\n",
    "\n",
    "# set the font size of x-axis ticks using 'fontsize'\n",
    "plt.xticks(fontsize = 15)\n",
    "\n",
    "# set the font size of y-axis ticks using 'fontsize'\n",
    "plt.yticks(fontsize = 15)\n",
    "\n",
    "# display the plot\n",
    "plt.show()"
   ]
  },
  {
   "cell_type": "code",
   "execution_count": 148,
   "id": "409196b7",
   "metadata": {},
   "outputs": [
    {
     "data": {
      "text/plain": [
       "0.7121918995912636"
      ]
     },
     "execution_count": 148,
     "metadata": {},
     "output_type": "execute_result"
    }
   ],
   "source": [
    "f1_score(y_test,xgb_y_pred_test)"
   ]
  },
  {
   "cell_type": "code",
   "execution_count": 149,
   "id": "b20527a1",
   "metadata": {},
   "outputs": [
    {
     "name": "stdout",
     "output_type": "stream",
     "text": [
      "              precision    recall  f1-score   support\n",
      "\n",
      "           0       1.00      0.61      0.76     18006\n",
      "           1       0.55      1.00      0.71      8628\n",
      "\n",
      "    accuracy                           0.74     26634\n",
      "   macro avg       0.78      0.81      0.74     26634\n",
      "weighted avg       0.86      0.74      0.74     26634\n",
      "\n"
     ]
    }
   ],
   "source": [
    "print(classification_report(y_test,xgb_y_pred_test))"
   ]
  },
  {
   "cell_type": "code",
   "execution_count": 152,
   "id": "433f19c4",
   "metadata": {},
   "outputs": [
    {
     "data": {
      "image/png": "[encoded data removed]",
      "text/plain": [
       "<Figure size 640x480 with 1 Axes>"
      ]
     },
     "metadata": {},
     "output_type": "display_data"
    }
   ],
   "source": [
    "# create a dataframe that stores the feature names and their importance\n",
    "# 'feature_importances_' returns the features based on the average gain \n",
    "important_features = pd.DataFrame({'Features': log_X_train.columns, \n",
    "                                   'Importance': xgb_model.feature_importances_})\n",
    "\n",
    "# sort the dataframe in the descending order according to the feature importance\n",
    "important_features = important_features.sort_values('Importance', ascending = False)\n",
    "\n",
    "# create a barplot to visualize the features based on their importance\n",
    "sns.barplot(x = 'Importance', y = 'Features', data = important_features)\n",
    "\n",
    "# add plot and axes labels\n",
    "# set text size using 'fontsize'\n",
    "plt.title('Feature Importance', fontsize = 15)\n",
    "plt.xlabel('Importance', fontsize = 15)\n",
    "plt.ylabel('Features', fontsize = 15)\n",
    "\n",
    "# display the plot\n",
    "plt.show()"
   ]
  },
  {
   "cell_type": "markdown",
   "id": "b7b51cf1",
   "metadata": {},
   "source": [
    "### Random Forest for Classification"
   ]
  },
  {
   "cell_type": "markdown",
   "id": "e6f670a5",
   "metadata": {},
   "source": [
    "#### Build an RandomForestClassifier model on a training dataset."
   ]
  },
  {
   "cell_type": "code",
   "execution_count": 46,
   "id": "cf53bfa6",
   "metadata": {},
   "outputs": [],
   "source": [
    "from sklearn.ensemble import RandomForestClassifier"
   ]
  },
  {
   "cell_type": "code",
   "execution_count": 47,
   "id": "2d333114",
   "metadata": {},
   "outputs": [],
   "source": [
    "# instantiate the 'RandomForestClassifier'\n",
    "# pass the required number of trees in the random forest to the parameter, 'n_estimators'\n",
    "# pass the 'random_state' to obtain the same samples for each time you run the code\n",
    "rf_classification = RandomForestClassifier(n_estimators = 10, random_state = 10)\n",
    "\n",
    "# use fit() to fit the model on the train set\n",
    "rf_model = rf_classification.fit(X_train, y_train)"
   ]
  },
  {
   "cell_type": "code",
   "execution_count": 53,
   "id": "e07aae95",
   "metadata": {},
   "outputs": [],
   "source": [
    "rfc_pred_test=rf_classification.predict_proba(X_test)[:,1]\n",
    "\n",
    "rfc_pred_train=rf_classification.predict_proba(X_train)[:,1]"
   ]
  },
  {
   "cell_type": "code",
   "execution_count": 54,
   "id": "122380c9",
   "metadata": {},
   "outputs": [
    {
     "data": {
      "image/png": "[encoded data removed]",
      "text/plain": [
       "<Figure size 640x480 with 1 Axes>"
      ]
     },
     "metadata": {},
     "output_type": "display_data"
    }
   ],
   "source": [
    "# the roc_curve() returns the values for false positive rate, true positive rate and threshold\n",
    "# pass the actual target values and predicted probabilities to the function\n",
    "fpr, tpr, thresholds = roc_curve(y_test, rfc_pred_test)\n",
    "\n",
    "# plot the ROC curve\n",
    "plt.plot(fpr, tpr)\n",
    "\n",
    "# set limits for x and y axes\n",
    "plt.xlim([0.0, 1.0])\n",
    "plt.ylim([0.0, 1.0])\n",
    "\n",
    "# plot the straight line showing worst prediction for the model\n",
    "plt.plot([0, 1], [0, 1],'r--')\n",
    "\n",
    "# add plot and axes labels\n",
    "# set text size using 'fontsize'\n",
    "plt.title('ROC curve for Admission Prediction Classifier', fontsize = 15)\n",
    "plt.xlabel('False positive rate (1-Specificity)', fontsize = 15)\n",
    "plt.ylabel('True positive rate (Sensitivity)', fontsize = 15)\n",
    "\n",
    "# add the AUC score to the plot\n",
    "# 'x' and 'y' gives position of the text\n",
    "# 's' is the text \n",
    "# use round() to round-off the AUC score upto 4 digits\n",
    "plt.text(x = 0.02, y = 0.9, s = ('AUC Score:', round(metrics.roc_auc_score(y_test, rfc_pred_test),4)))\n",
    "                               \n",
    "# plot the grid\n",
    "plt.grid(True)\n",
    "\n",
    "plt.show()"
   ]
  },
  {
   "cell_type": "code",
   "execution_count": 55,
   "id": "8921d48f",
   "metadata": {},
   "outputs": [
    {
     "data": {
      "text/html": [
       "<div>\n",
       "<style scoped>\n",
       "    .dataframe tbody tr th:only-of-type {\n",
       "        vertical-align: middle;\n",
       "    }\n",
       "\n",
       "    .dataframe tbody tr th {\n",
       "        vertical-align: top;\n",
       "    }\n",
       "\n",
       "    .dataframe thead th {\n",
       "        text-align: right;\n",
       "    }\n",
       "</style>\n",
       "<table border=\"1\" class=\"dataframe\">\n",
       "  <thead>\n",
       "    <tr style=\"text-align: right;\">\n",
       "      <th></th>\n",
       "      <th>TPR</th>\n",
       "      <th>FPR</th>\n",
       "      <th>Threshold</th>\n",
       "      <th>Difference</th>\n",
       "    </tr>\n",
       "  </thead>\n",
       "  <tbody>\n",
       "    <tr>\n",
       "      <th>0</th>\n",
       "      <td>0.948524</td>\n",
       "      <td>0.377675</td>\n",
       "      <td>0.3</td>\n",
       "      <td>0.570849</td>\n",
       "    </tr>\n",
       "    <tr>\n",
       "      <th>1</th>\n",
       "      <td>0.988961</td>\n",
       "      <td>0.419013</td>\n",
       "      <td>0.2</td>\n",
       "      <td>0.569948</td>\n",
       "    </tr>\n",
       "    <tr>\n",
       "      <th>2</th>\n",
       "      <td>0.853233</td>\n",
       "      <td>0.330367</td>\n",
       "      <td>0.4</td>\n",
       "      <td>0.522866</td>\n",
       "    </tr>\n",
       "    <tr>\n",
       "      <th>3</th>\n",
       "      <td>0.999099</td>\n",
       "      <td>0.530525</td>\n",
       "      <td>0.1</td>\n",
       "      <td>0.468574</td>\n",
       "    </tr>\n",
       "    <tr>\n",
       "      <th>4</th>\n",
       "      <td>0.687993</td>\n",
       "      <td>0.264418</td>\n",
       "      <td>0.5</td>\n",
       "      <td>0.423575</td>\n",
       "    </tr>\n",
       "  </tbody>\n",
       "</table>\n",
       "</div>"
      ],
      "text/plain": [
       "        TPR       FPR  Threshold  Difference\n",
       "0  0.948524  0.377675        0.3    0.570849\n",
       "1  0.988961  0.419013        0.2    0.569948\n",
       "2  0.853233  0.330367        0.4    0.522866\n",
       "3  0.999099  0.530525        0.1    0.468574\n",
       "4  0.687993  0.264418        0.5    0.423575"
      ]
     },
     "execution_count": 55,
     "metadata": {},
     "output_type": "execute_result"
    }
   ],
   "source": [
    "# create a dataframe to store the values for false positive rate, true positive rate and threshold\n",
    "youdens_table = pd.DataFrame({'TPR': tpr,\n",
    "                             'FPR': fpr,\n",
    "                             'Threshold': thresholds})\n",
    "\n",
    "# calculate the difference between TPR and FPR for each threshold and store the values in a new column 'Difference'\n",
    "youdens_table['Difference'] = youdens_table.TPR - youdens_table.FPR\n",
    "\n",
    "# sort the dataframe based on the values of difference \n",
    "# 'ascending = False' sorts the data in descending order\n",
    "# 'reset_index' resets the index of the dataframe\n",
    "# 'drop = True' drops the previous index\n",
    "youdens_table = youdens_table.sort_values('Difference', ascending = False).reset_index(drop = True)\n",
    "\n",
    "# print the first five observations\n",
    "youdens_table.head()"
   ]
  },
  {
   "cell_type": "code",
   "execution_count": 61,
   "id": "635039a5",
   "metadata": {},
   "outputs": [],
   "source": [
    "    # convert probabilities to 0 and 1 using 'if_else'\n",
    "    rfc_y_pred_test = [ 0 if x < 0.3 else 1 for x in rfc_pred_test]\n",
    "    rfc_y_pred_train = [ 0 if x < 0.3 else 1 for x in rfc_pred_train]"
   ]
  },
  {
   "cell_type": "code",
   "execution_count": 62,
   "id": "59869acd",
   "metadata": {},
   "outputs": [
    {
     "data": {
      "image/png": "[encoded data removed]",
      "text/plain": [
       "<Figure size 640x480 with 1 Axes>"
      ]
     },
     "metadata": {},
     "output_type": "display_data"
    }
   ],
   "source": [
    "# create a confusion matrix\n",
    "# pass the actual and predicted target values to the confusion_matrix()\n",
    "cm = confusion_matrix(y_test, rfc_y_pred_test)\n",
    "\n",
    "# label the confusion matrix  \n",
    "# pass the matrix as 'data'\n",
    "# pass the required column names to the parameter, 'columns'\n",
    "# pass the required row names to the parameter, 'index'\n",
    "conf_matrix = pd.DataFrame(data = cm,columns = ['Predicted:0','Predicted:1'], index = ['Actual:0','Actual:1'])\n",
    "\n",
    "# plot a heatmap to visualize the confusion matrix\n",
    "# 'annot' prints the value of each grid \n",
    "# 'fmt = d' returns the integer value in each grid\n",
    "# 'cmap' assigns color to each grid\n",
    "# as we do not require different colors for each grid in the heatmap,\n",
    "# use 'ListedColormap' to assign the specified color to the grid\n",
    "# 'cbar = False' will not return the color bar to the right side of the heatmap\n",
    "# 'linewidths' assigns the width to the line that divides each grid\n",
    "# 'annot_kws = {'size':25})' assigns the font size of the annotated text \n",
    "sns.heatmap(conf_matrix, annot = True, fmt = 'd', cbar = False, \n",
    "            linewidths = 0.1, annot_kws = {'size':20})\n",
    "\n",
    "# set the font size of x-axis ticks using 'fontsize'\n",
    "plt.xticks(fontsize = 15)\n",
    "\n",
    "# set the font size of y-axis ticks using 'fontsize'\n",
    "plt.yticks(fontsize = 15)\n",
    "\n",
    "# display the plot\n",
    "plt.show()"
   ]
  },
  {
   "cell_type": "code",
   "execution_count": 63,
   "id": "0d5dd6aa",
   "metadata": {},
   "outputs": [
    {
     "data": {
      "text/plain": [
       "0.7016038325348886"
      ]
     },
     "execution_count": 63,
     "metadata": {},
     "output_type": "execute_result"
    }
   ],
   "source": [
    "f1_score(y_test,rfc_y_pred_test)"
   ]
  },
  {
   "cell_type": "code",
   "execution_count": 64,
   "id": "1943611c",
   "metadata": {},
   "outputs": [
    {
     "name": "stdout",
     "output_type": "stream",
     "text": [
      "              precision    recall  f1-score   support\n",
      "\n",
      "           0       0.96      0.62      0.76     17756\n",
      "           1       0.56      0.95      0.70      8878\n",
      "\n",
      "    accuracy                           0.73     26634\n",
      "   macro avg       0.76      0.79      0.73     26634\n",
      "weighted avg       0.83      0.73      0.74     26634\n",
      "\n"
     ]
    }
   ],
   "source": [
    "print(classification_report(y_test,rfc_y_pred_test))"
   ]
  },
  {
   "cell_type": "code",
   "execution_count": 65,
   "id": "5f789946",
   "metadata": {},
   "outputs": [
    {
     "name": "stdout",
     "output_type": "stream",
     "text": [
      "              precision    recall  f1-score   support\n",
      "\n",
      "           0       1.00      0.88      0.94     41920\n",
      "           1       0.80      1.00      0.89     20224\n",
      "\n",
      "    accuracy                           0.92     62144\n",
      "   macro avg       0.90      0.94      0.91     62144\n",
      "weighted avg       0.94      0.92      0.92     62144\n",
      "\n"
     ]
    }
   ],
   "source": [
    "    print(classification_report(y_train,rfc_y_pred_train))"
   ]
  },
  {
   "cell_type": "code",
   "execution_count": 66,
   "id": "cd8ffdfe",
   "metadata": {},
   "outputs": [],
   "source": [
    "from sklearn.feature_selection import SelectFromModel"
   ]
  },
  {
   "cell_type": "code",
   "execution_count": 67,
   "id": "56e8af52",
   "metadata": {},
   "outputs": [
    {
     "data": {
      "text/plain": [
       "SelectFromModel(estimator=LogisticRegression())"
      ]
     },
     "execution_count": 67,
     "metadata": {},
     "output_type": "execute_result"
    }
   ],
   "source": [
    "### Apply Feature Selection\n",
    "# first, I specify the Lasso Regression model, and I\n",
    "# select a suitable alpha (equivalent of penalty).\n",
    "# The bigger the alpha the less features that will be selected.\n",
    "\n",
    "# Then I use the selectFromModel object from sklearn, which\n",
    "# will select the features which coefficients are non-zero\n",
    "\n",
    "feature_sel_model = SelectFromModel(LogisticRegression()) # remember to set the seed, the random state in this function\n",
    "feature_sel_model.fit(X_train, y_train)"
   ]
  },
  {
   "cell_type": "code",
   "execution_count": 69,
   "id": "77de8070",
   "metadata": {},
   "outputs": [
    {
     "name": "stdout",
     "output_type": "stream",
     "text": [
      "total features: 23\n",
      "selected features: 2\n",
      "features with coefficients shrank to zero: 0\n"
     ]
    }
   ],
   "source": [
    "# let's print the number of total and selected features\n",
    "\n",
    "# this is how we can make a list of the selected features\n",
    "selected_feat = X_train.columns[(feature_sel_model.get_support())]\n",
    "\n",
    "# let's print some stats\n",
    "print('total features: {}'.format((X_train.shape[1])))\n",
    "print('selected features: {}'.format(len(selected_feat)))\n",
    "print('features with coefficients shrank to zero: {}'.format(\n",
    "    np.sum(feature_sel_model.estimator_.coef_ == 0)))"
   ]
  },
  {
   "cell_type": "code",
   "execution_count": 70,
   "id": "85ef1537",
   "metadata": {},
   "outputs": [
    {
     "data": {
      "text/plain": [
       "Index(['Scheduled_Shipping', 'Shipping_Class'], dtype='object')"
      ]
     },
     "execution_count": 70,
     "metadata": {},
     "output_type": "execute_result"
    }
   ],
   "source": [
    "selected_feat"
   ]
  },
  {
   "cell_type": "code",
   "execution_count": 71,
   "id": "ae94d60c",
   "metadata": {},
   "outputs": [],
   "source": [
    "new_X_train=X_train[selected_feat]\n",
    "\n",
    "new_X_test=X_test[selected_feat]"
   ]
  },
  {
   "cell_type": "code",
   "execution_count": 74,
   "id": "f16beff4",
   "metadata": {},
   "outputs": [],
   "source": [
    "new_log=LogisticRegression()\n",
    "\n",
    "new_log=new_log.fit(new_X_train,y_train)"
   ]
  },
  {
   "cell_type": "code",
   "execution_count": 76,
   "id": "454fbde2",
   "metadata": {},
   "outputs": [],
   "source": [
    "new_pred_test=new_log.predict_proba(new_X_test)[:,1]\n",
    "\n",
    "new_pred_train=new_log.predict_proba(new_X_train)[:,1]"
   ]
  },
  {
   "cell_type": "code",
   "execution_count": 78,
   "id": "86bab146",
   "metadata": {},
   "outputs": [
    {
     "data": {
      "image/png": "[encoded data removed]",
      "text/plain": [
       "<Figure size 640x480 with 1 Axes>"
      ]
     },
     "metadata": {},
     "output_type": "display_data"
    }
   ],
   "source": [
    "# the roc_curve() returns the values for false positive rate, true positive rate and threshold\n",
    "# pass the actual target values and predicted probabilities to the function\n",
    "fpr, tpr, thresholds = roc_curve(y_test, new_pred_test)\n",
    "\n",
    "# plot the ROC curve\n",
    "plt.plot(fpr, tpr)\n",
    "\n",
    "# set limits for x and y axes\n",
    "plt.xlim([0.0, 1.0])\n",
    "plt.ylim([0.0, 1.0])\n",
    "\n",
    "# plot the straight line showing worst prediction for the model\n",
    "plt.plot([0, 1], [0, 1],'r--')\n",
    "\n",
    "# add plot and axes labels\n",
    "# set text size using 'fontsize'\n",
    "plt.title('ROC curve', fontsize = 15)\n",
    "plt.xlabel('False positive rate (1-Specificity)', fontsize = 15)\n",
    "plt.ylabel('True positive rate (Sensitivity)', fontsize = 15)\n",
    "\n",
    "# add the AUC score to the plot\n",
    "# 'x' and 'y' gives position of the text\n",
    "# 's' is the text \n",
    "# use round() to round-off the AUC score upto 4 digits\n",
    "plt.text(x = 0.02, y = 0.9, s = ('AUC Score:', round(metrics.roc_auc_score(y_test, new_pred_test),4)))\n",
    "                               \n",
    "# plot the grid\n",
    "plt.grid(True)\n",
    "\n",
    "plt.show()"
   ]
  },
  {
   "cell_type": "code",
   "execution_count": 79,
   "id": "34a01b5f",
   "metadata": {},
   "outputs": [
    {
     "data": {
      "text/html": [
       "<div>\n",
       "<style scoped>\n",
       "    .dataframe tbody tr th:only-of-type {\n",
       "        vertical-align: middle;\n",
       "    }\n",
       "\n",
       "    .dataframe tbody tr th {\n",
       "        vertical-align: top;\n",
       "    }\n",
       "\n",
       "    .dataframe thead th {\n",
       "        text-align: right;\n",
       "    }\n",
       "</style>\n",
       "<table border=\"1\" class=\"dataframe\">\n",
       "  <thead>\n",
       "    <tr style=\"text-align: right;\">\n",
       "      <th></th>\n",
       "      <th>TPR</th>\n",
       "      <th>FPR</th>\n",
       "      <th>Threshold</th>\n",
       "      <th>Difference</th>\n",
       "    </tr>\n",
       "  </thead>\n",
       "  <tbody>\n",
       "    <tr>\n",
       "      <th>0</th>\n",
       "      <td>0.963505</td>\n",
       "      <td>0.374690</td>\n",
       "      <td>0.302627</td>\n",
       "      <td>0.588815</td>\n",
       "    </tr>\n",
       "    <tr>\n",
       "      <th>1</th>\n",
       "      <td>0.969250</td>\n",
       "      <td>0.411410</td>\n",
       "      <td>0.191997</td>\n",
       "      <td>0.557840</td>\n",
       "    </tr>\n",
       "    <tr>\n",
       "      <th>2</th>\n",
       "      <td>0.963505</td>\n",
       "      <td>0.409721</td>\n",
       "      <td>0.215371</td>\n",
       "      <td>0.553785</td>\n",
       "    </tr>\n",
       "    <tr>\n",
       "      <th>3</th>\n",
       "      <td>0.763798</td>\n",
       "      <td>0.298829</td>\n",
       "      <td>0.333903</td>\n",
       "      <td>0.464970</td>\n",
       "    </tr>\n",
       "    <tr>\n",
       "      <th>4</th>\n",
       "      <td>0.755238</td>\n",
       "      <td>0.295844</td>\n",
       "      <td>0.366712</td>\n",
       "      <td>0.459394</td>\n",
       "    </tr>\n",
       "  </tbody>\n",
       "</table>\n",
       "</div>"
      ],
      "text/plain": [
       "        TPR       FPR  Threshold  Difference\n",
       "0  0.963505  0.374690   0.302627    0.588815\n",
       "1  0.969250  0.411410   0.191997    0.557840\n",
       "2  0.963505  0.409721   0.215371    0.553785\n",
       "3  0.763798  0.298829   0.333903    0.464970\n",
       "4  0.755238  0.295844   0.366712    0.459394"
      ]
     },
     "execution_count": 79,
     "metadata": {},
     "output_type": "execute_result"
    }
   ],
   "source": [
    "# create a dataframe to store the values for false positive rate, true positive rate and threshold\n",
    "youdens_table = pd.DataFrame({'TPR': tpr,\n",
    "                             'FPR': fpr,\n",
    "                             'Threshold': thresholds})\n",
    "\n",
    "# calculate the difference between TPR and FPR for each threshold and store the values in a new column 'Difference'\n",
    "youdens_table['Difference'] = youdens_table.TPR - youdens_table.FPR\n",
    "\n",
    "# sort the dataframe based on the values of difference \n",
    "# 'ascending = False' sorts the data in descending order\n",
    "# 'reset_index' resets the index of the dataframe\n",
    "# 'drop = True' drops the previous index\n",
    "youdens_table = youdens_table.sort_values('Difference', ascending = False).reset_index(drop = True)\n",
    "\n",
    "# print the first five observations\n",
    "youdens_table.head()"
   ]
  },
  {
   "cell_type": "code",
   "execution_count": 80,
   "id": "4439bd57",
   "metadata": {},
   "outputs": [],
   "source": [
    "# convert probabilities to 0 and 1 using 'if_else'\n",
    "new_y_pred_test = [ 0 if x < 0.3 else 1 for x in new_pred_test]\n",
    "new_y_pred_train = [ 0 if x < 0.3 else 1 for x in new_pred_train]"
   ]
  },
  {
   "cell_type": "code",
   "execution_count": 81,
   "id": "fabfeb52",
   "metadata": {},
   "outputs": [
    {
     "data": {
      "image/png": "[encoded data removed]",
      "text/plain": [
       "<Figure size 640x480 with 1 Axes>"
      ]
     },
     "metadata": {},
     "output_type": "display_data"
    }
   ],
   "source": [
    "# create a confusion matrix\n",
    "# pass the actual and predicted target values to the confusion_matrix()\n",
    "cm = confusion_matrix(y_test, new_y_pred_test)\n",
    "\n",
    "# label the confusion matrix  \n",
    "# pass the matrix as 'data'\n",
    "# pass the required column names to the parameter, 'columns'\n",
    "# pass the required row names to the parameter, 'index'\n",
    "conf_matrix = pd.DataFrame(data = cm,columns = ['Predicted:0','Predicted:1'], index = ['Actual:0','Actual:1'])\n",
    "\n",
    "# plot a heatmap to visualize the confusion matrix\n",
    "# 'annot' prints the value of each grid \n",
    "# 'fmt = d' returns the integer value in each grid\n",
    "# 'cmap' assigns color to each grid\n",
    "# as we do not require different colors for each grid in the heatmap,\n",
    "# use 'ListedColormap' to assign the specified color to the grid\n",
    "# 'cbar = False' will not return the color bar to the right side of the heatmap\n",
    "# 'linewidths' assigns the width to the line that divides each grid\n",
    "# 'annot_kws = {'size':25})' assigns the font size of the annotated text \n",
    "sns.heatmap(conf_matrix, annot = True, fmt = 'd', cbar = False, \n",
    "            linewidths = 0.1, annot_kws = {'size':20})\n",
    "\n",
    "# set the font size of x-axis ticks using 'fontsize'\n",
    "plt.xticks(fontsize = 15)\n",
    "\n",
    "# set the font size of y-axis ticks using 'fontsize'\n",
    "plt.yticks(fontsize = 15)\n",
    "\n",
    "# display the plot\n",
    "plt.show()"
   ]
  },
  {
   "cell_type": "code",
   "execution_count": 82,
   "id": "ef8bc886",
   "metadata": {},
   "outputs": [
    {
     "data": {
      "text/plain": [
       "0.7103176250778492"
      ]
     },
     "execution_count": 82,
     "metadata": {},
     "output_type": "execute_result"
    }
   ],
   "source": [
    "f1_score(y_test,new_y_pred_test)"
   ]
  },
  {
   "cell_type": "code",
   "execution_count": 83,
   "id": "d7369879",
   "metadata": {},
   "outputs": [
    {
     "name": "stdout",
     "output_type": "stream",
     "text": [
      "              precision    recall  f1-score   support\n",
      "\n",
      "           0       0.97      0.63      0.76     17756\n",
      "           1       0.56      0.96      0.71      8878\n",
      "\n",
      "    accuracy                           0.74     26634\n",
      "   macro avg       0.77      0.79      0.74     26634\n",
      "weighted avg       0.84      0.74      0.74     26634\n",
      "\n"
     ]
    }
   ],
   "source": [
    "print(classification_report(y_test,new_y_pred_test))"
   ]
  },
  {
   "cell_type": "code",
   "execution_count": 84,
   "id": "013c3f80",
   "metadata": {},
   "outputs": [
    {
     "name": "stdout",
     "output_type": "stream",
     "text": [
      "              precision    recall  f1-score   support\n",
      "\n",
      "           0       0.97      0.63      0.76     41920\n",
      "           1       0.56      0.97      0.71     20224\n",
      "\n",
      "    accuracy                           0.74     62144\n",
      "   macro avg       0.77      0.80      0.73     62144\n",
      "weighted avg       0.84      0.74      0.75     62144\n",
      "\n"
     ]
    }
   ],
   "source": [
    "print(classification_report(y_train,new_y_pred_train))"
   ]
  }
 ],
 "metadata": {
  "kernelspec": {
   "display_name": "Python 3",
   "language": "python",
   "name": "python3"
  },
  "language_info": {
   "codemirror_mode": {
    "name": "ipython",
    "version": 3
   },
   "file_extension": ".py",
   "mimetype": "text/x-python",
   "name": "python",
   "nbconvert_exporter": "python",
   "pygments_lexer": "ipython3",
   "version": "3.8.8"
  }
 },
 "nbformat": 4,
 "nbformat_minor": 5
}
